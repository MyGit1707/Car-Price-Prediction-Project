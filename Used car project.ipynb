{
 "cells": [
  {
   "cell_type": "markdown",
   "id": "f808a870",
   "metadata": {},
   "source": [
    "### Used Price Prediction Project"
   ]
  },
  {
   "cell_type": "markdown",
   "id": "c3778b0a",
   "metadata": {},
   "source": [
    "Importing all the necessary libraries/dependencies here."
   ]
  },
  {
   "cell_type": "code",
   "execution_count": 2,
   "id": "42f0768d",
   "metadata": {},
   "outputs": [],
   "source": [
    "import warnings\n",
    "warnings.simplefilter(\"ignore\")\n",
    "warnings.filterwarnings(\"ignore\")\n",
    "import joblib\n",
    "\n",
    "import pandas as pd\n",
    "import numpy as np\n",
    "import seaborn as sns\n",
    "import matplotlib.pyplot as plt\n",
    "%matplotlib inline\n",
    "\n",
    "import missingno\n",
    "import pandas_profiling\n",
    "from sklearn import metrics\n",
    "from scipy.stats import zscore\n",
    "from sklearn.preprocessing import OrdinalEncoder\n",
    "from sklearn.preprocessing import StandardScaler\n",
    "from sklearn.model_selection import train_test_split\n",
    "\n",
    "from sklearn.linear_model import LinearRegression, Ridge, Lasso\n",
    "from sklearn.svm import SVR\n",
    "from sklearn.tree import DecisionTreeRegressor\n",
    "from sklearn.ensemble import RandomForestRegressor\n",
    "from sklearn.neighbors import KNeighborsRegressor\n",
    "from sklearn.ensemble import AdaBoostRegressor\n",
    "from sklearn.ensemble import ExtraTreesRegressor\n",
    "from sklearn.ensemble import GradientBoostingRegressor\n",
    "\n",
    "from sklearn.metrics import r2_score\n",
    "from sklearn.metrics import mean_squared_error\n",
    "from sklearn.model_selection import cross_val_score\n",
    "from sklearn.model_selection import GridSearchCV"
   ]
  },
  {
   "cell_type": "code",
   "execution_count": 3,
   "id": "b019525f",
   "metadata": {},
   "outputs": [],
   "source": [
    "df = pd.read_csv(\"Used_Car_Data.csv\")"
   ]
  },
  {
   "cell_type": "code",
   "execution_count": 4,
   "id": "178952cd",
   "metadata": {},
   "outputs": [
    {
     "data": {
      "text/html": [
       "<div>\n",
       "<style scoped>\n",
       "    .dataframe tbody tr th:only-of-type {\n",
       "        vertical-align: middle;\n",
       "    }\n",
       "\n",
       "    .dataframe tbody tr th {\n",
       "        vertical-align: top;\n",
       "    }\n",
       "\n",
       "    .dataframe thead th {\n",
       "        text-align: right;\n",
       "    }\n",
       "</style>\n",
       "<table border=\"1\" class=\"dataframe\">\n",
       "  <thead>\n",
       "    <tr style=\"text-align: right;\">\n",
       "      <th></th>\n",
       "      <th>Used Car Model</th>\n",
       "      <th>Year of Manufacture</th>\n",
       "      <th>Kilometers Driven</th>\n",
       "      <th>Fuel Type</th>\n",
       "      <th>Transmission Type</th>\n",
       "      <th>Used Car Price</th>\n",
       "    </tr>\n",
       "  </thead>\n",
       "  <tbody>\n",
       "    <tr>\n",
       "      <th>0</th>\n",
       "      <td>Hyundai</td>\n",
       "      <td>2017</td>\n",
       "      <td>2,200 km</td>\n",
       "      <td>Petrol</td>\n",
       "      <td>Manual</td>\n",
       "      <td>5,25,000</td>\n",
       "    </tr>\n",
       "    <tr>\n",
       "      <th>1</th>\n",
       "      <td>Hyundai</td>\n",
       "      <td>2013</td>\n",
       "      <td>91,500 km</td>\n",
       "      <td>Diesel</td>\n",
       "      <td>Manual</td>\n",
       "      <td>5,95,000</td>\n",
       "    </tr>\n",
       "    <tr>\n",
       "      <th>2</th>\n",
       "      <td>Ford</td>\n",
       "      <td>2017</td>\n",
       "      <td>36,000 km</td>\n",
       "      <td>Diesel</td>\n",
       "      <td>Manual</td>\n",
       "      <td>7,75,000</td>\n",
       "    </tr>\n",
       "    <tr>\n",
       "      <th>3</th>\n",
       "      <td>Honda</td>\n",
       "      <td>2015</td>\n",
       "      <td>90,000 km</td>\n",
       "      <td>Diesel</td>\n",
       "      <td>Manual</td>\n",
       "      <td>4,00,000</td>\n",
       "    </tr>\n",
       "    <tr>\n",
       "      <th>4</th>\n",
       "      <td>Maruti Suzuki</td>\n",
       "      <td>2010</td>\n",
       "      <td>40,000 km</td>\n",
       "      <td>Petrol</td>\n",
       "      <td>Manual</td>\n",
       "      <td>2,30,000</td>\n",
       "    </tr>\n",
       "    <tr>\n",
       "      <th>...</th>\n",
       "      <td>...</td>\n",
       "      <td>...</td>\n",
       "      <td>...</td>\n",
       "      <td>...</td>\n",
       "      <td>...</td>\n",
       "      <td>...</td>\n",
       "    </tr>\n",
       "    <tr>\n",
       "      <th>9995</th>\n",
       "      <td>Hyundai</td>\n",
       "      <td>2012</td>\n",
       "      <td>65,000 km</td>\n",
       "      <td>Petrol</td>\n",
       "      <td>Manual</td>\n",
       "      <td>3,25,000</td>\n",
       "    </tr>\n",
       "    <tr>\n",
       "      <th>9996</th>\n",
       "      <td>Maruti Suzuki</td>\n",
       "      <td>2018</td>\n",
       "      <td>85,000 km</td>\n",
       "      <td>CNG &amp; Hybrids</td>\n",
       "      <td>Manual</td>\n",
       "      <td>2,90,000</td>\n",
       "    </tr>\n",
       "    <tr>\n",
       "      <th>9997</th>\n",
       "      <td>Maruti Suzuki</td>\n",
       "      <td>2010</td>\n",
       "      <td>72,000 km</td>\n",
       "      <td>Petrol</td>\n",
       "      <td>Manual</td>\n",
       "      <td>3,20,000</td>\n",
       "    </tr>\n",
       "    <tr>\n",
       "      <th>9998</th>\n",
       "      <td>Tata</td>\n",
       "      <td>2012</td>\n",
       "      <td>70,000 km</td>\n",
       "      <td>Diesel</td>\n",
       "      <td>Manual</td>\n",
       "      <td>1,85,000</td>\n",
       "    </tr>\n",
       "    <tr>\n",
       "      <th>9999</th>\n",
       "      <td>Ford</td>\n",
       "      <td>2018</td>\n",
       "      <td>53,764 km</td>\n",
       "      <td>Diesel</td>\n",
       "      <td>Manual</td>\n",
       "      <td>8,75,000</td>\n",
       "    </tr>\n",
       "  </tbody>\n",
       "</table>\n",
       "<p>10000 rows × 6 columns</p>\n",
       "</div>"
      ],
      "text/plain": [
       "     Used Car Model Year of Manufacture Kilometers Driven      Fuel Type  \\\n",
       "0           Hyundai                2017          2,200 km         Petrol   \n",
       "1           Hyundai                2013         91,500 km         Diesel   \n",
       "2              Ford                2017         36,000 km         Diesel   \n",
       "3             Honda                2015         90,000 km         Diesel   \n",
       "4     Maruti Suzuki                2010         40,000 km         Petrol   \n",
       "...             ...                 ...               ...            ...   \n",
       "9995        Hyundai                2012         65,000 km         Petrol   \n",
       "9996  Maruti Suzuki                2018         85,000 km  CNG & Hybrids   \n",
       "9997  Maruti Suzuki                2010         72,000 km         Petrol   \n",
       "9998           Tata                2012         70,000 km         Diesel   \n",
       "9999           Ford                2018         53,764 km         Diesel   \n",
       "\n",
       "     Transmission Type Used Car Price  \n",
       "0               Manual       5,25,000  \n",
       "1               Manual       5,95,000  \n",
       "2               Manual       7,75,000  \n",
       "3               Manual       4,00,000  \n",
       "4               Manual       2,30,000  \n",
       "...                ...            ...  \n",
       "9995            Manual       3,25,000  \n",
       "9996            Manual       2,90,000  \n",
       "9997            Manual       3,20,000  \n",
       "9998            Manual       1,85,000  \n",
       "9999            Manual       8,75,000  \n",
       "\n",
       "[10000 rows x 6 columns]"
      ]
     },
     "execution_count": 4,
     "metadata": {},
     "output_type": "execute_result"
    }
   ],
   "source": [
    "df # checking the first 5 and last 5 rows"
   ]
  },
  {
   "cell_type": "markdown",
   "id": "b5c664d8",
   "metadata": {},
   "source": [
    "Here we are taking a look at the first 5 and last 5 rows of our dataset. It shows that we have a total of 10000 rows and 6 columns present in our dataframe. In the above cell we can see our dataset includes a target label \"Used Car Price\" column and the remaining feature columns can be used to determine or help in predicting the price of the used cars."
   ]
  },
  {
   "cell_type": "markdown",
   "id": "ecaafa3b",
   "metadata": {},
   "source": [
    "### Exploratory Data Analysis (EDA)"
   ]
  },
  {
   "cell_type": "code",
   "execution_count": 5,
   "id": "e1841dc7",
   "metadata": {},
   "outputs": [
    {
     "name": "stdout",
     "output_type": "stream",
     "text": [
      "We have 10000 Rows and 6 Columns in our dataframe\n"
     ]
    },
    {
     "data": {
      "text/html": [
       "<div>\n",
       "<style scoped>\n",
       "    .dataframe tbody tr th:only-of-type {\n",
       "        vertical-align: middle;\n",
       "    }\n",
       "\n",
       "    .dataframe tbody tr th {\n",
       "        vertical-align: top;\n",
       "    }\n",
       "\n",
       "    .dataframe thead th {\n",
       "        text-align: right;\n",
       "    }\n",
       "</style>\n",
       "<table border=\"1\" class=\"dataframe\">\n",
       "  <thead>\n",
       "    <tr style=\"text-align: right;\">\n",
       "      <th></th>\n",
       "      <th>Used Car Model</th>\n",
       "      <th>Year of Manufacture</th>\n",
       "      <th>Kilometers Driven</th>\n",
       "      <th>Fuel Type</th>\n",
       "      <th>Transmission Type</th>\n",
       "      <th>Used Car Price</th>\n",
       "    </tr>\n",
       "  </thead>\n",
       "  <tbody>\n",
       "    <tr>\n",
       "      <th>0</th>\n",
       "      <td>Hyundai</td>\n",
       "      <td>2017</td>\n",
       "      <td>2,200 km</td>\n",
       "      <td>Petrol</td>\n",
       "      <td>Manual</td>\n",
       "      <td>5,25,000</td>\n",
       "    </tr>\n",
       "    <tr>\n",
       "      <th>1</th>\n",
       "      <td>Hyundai</td>\n",
       "      <td>2013</td>\n",
       "      <td>91,500 km</td>\n",
       "      <td>Diesel</td>\n",
       "      <td>Manual</td>\n",
       "      <td>5,95,000</td>\n",
       "    </tr>\n",
       "    <tr>\n",
       "      <th>2</th>\n",
       "      <td>Ford</td>\n",
       "      <td>2017</td>\n",
       "      <td>36,000 km</td>\n",
       "      <td>Diesel</td>\n",
       "      <td>Manual</td>\n",
       "      <td>7,75,000</td>\n",
       "    </tr>\n",
       "    <tr>\n",
       "      <th>3</th>\n",
       "      <td>Honda</td>\n",
       "      <td>2015</td>\n",
       "      <td>90,000 km</td>\n",
       "      <td>Diesel</td>\n",
       "      <td>Manual</td>\n",
       "      <td>4,00,000</td>\n",
       "    </tr>\n",
       "    <tr>\n",
       "      <th>4</th>\n",
       "      <td>Maruti Suzuki</td>\n",
       "      <td>2010</td>\n",
       "      <td>40,000 km</td>\n",
       "      <td>Petrol</td>\n",
       "      <td>Manual</td>\n",
       "      <td>2,30,000</td>\n",
       "    </tr>\n",
       "  </tbody>\n",
       "</table>\n",
       "</div>"
      ],
      "text/plain": [
       "  Used Car Model Year of Manufacture Kilometers Driven Fuel Type  \\\n",
       "0        Hyundai                2017          2,200 km    Petrol   \n",
       "1        Hyundai                2013         91,500 km    Diesel   \n",
       "2           Ford                2017         36,000 km    Diesel   \n",
       "3          Honda                2015         90,000 km    Diesel   \n",
       "4  Maruti Suzuki                2010         40,000 km    Petrol   \n",
       "\n",
       "  Transmission Type Used Car Price  \n",
       "0            Manual       5,25,000  \n",
       "1            Manual       5,95,000  \n",
       "2            Manual       7,75,000  \n",
       "3            Manual       4,00,000  \n",
       "4            Manual       2,30,000  "
      ]
     },
     "execution_count": 5,
     "metadata": {},
     "output_type": "execute_result"
    }
   ],
   "source": [
    "print(\"We have {} Rows and {} Columns in our dataframe\".format(df.shape[0], df.shape[1]))\n",
    "df.head()"
   ]
  },
  {
   "cell_type": "code",
   "execution_count": 6,
   "id": "476ccff9",
   "metadata": {},
   "outputs": [
    {
     "data": {
      "text/plain": [
       "Used Car Model         0\n",
       "Year of Manufacture    0\n",
       "Kilometers Driven      0\n",
       "Fuel Type              0\n",
       "Transmission Type      0\n",
       "Used Car Price         0\n",
       "dtype: int64"
      ]
     },
     "execution_count": 6,
     "metadata": {},
     "output_type": "execute_result"
    }
   ],
   "source": [
    "df.isna().sum() # checking for missing values"
   ]
  },
  {
   "cell_type": "markdown",
   "id": "1abc80ee",
   "metadata": {},
   "source": [
    "Here, no missing values are present, therefore we won't have to worry about handling missing data."
   ]
  },
  {
   "cell_type": "code",
   "execution_count": 7,
   "id": "82a95f2a",
   "metadata": {},
   "outputs": [
    {
     "data": {
      "text/plain": [
       "<AxesSubplot:>"
      ]
     },
     "execution_count": 7,
     "metadata": {},
     "output_type": "execute_result"
    }
   ],
   "source": [
    "missingno.bar(df, figsize = (25,5), color=\"tab:pink\")"
   ]
  },
  {
   "cell_type": "code",
   "execution_count": 8,
   "id": "4e033563",
   "metadata": {},
   "outputs": [
    {
     "name": "stdout",
     "output_type": "stream",
     "text": [
      "Missing column values in percentage:\n",
      "Used Car Model : 0.0 %\n",
      "Year of Manufacture : 0.0 %\n",
      "Kilometers Driven : 0.0 %\n",
      "Fuel Type : 0.0 %\n",
      "Transmission Type : 0.0 %\n",
      "Used Car Price : 0.0 %\n"
     ]
    }
   ],
   "source": [
    "print(\"Missing column values in percentage:\")\n",
    "for col in df:\n",
    "    percentage = np.round((df[col].isnull().sum()/df.shape[0])*100, 6)\n",
    "    print(col, \":\".format(), percentage, '%')"
   ]
  },
  {
   "cell_type": "code",
   "execution_count": 9,
   "id": "392296e5",
   "metadata": {},
   "outputs": [
    {
     "name": "stdout",
     "output_type": "stream",
     "text": [
      "<class 'pandas.core.frame.DataFrame'>\n",
      "RangeIndex: 10000 entries, 0 to 9999\n",
      "Data columns (total 6 columns):\n",
      " #   Column               Non-Null Count  Dtype \n",
      "---  ------               --------------  ----- \n",
      " 0   Used Car Model       10000 non-null  object\n",
      " 1   Year of Manufacture  10000 non-null  object\n",
      " 2   Kilometers Driven    10000 non-null  object\n",
      " 3   Fuel Type            10000 non-null  object\n",
      " 4   Transmission Type    10000 non-null  object\n",
      " 5   Used Car Price       10000 non-null  object\n",
      "dtypes: object(6)\n",
      "memory usage: 468.9+ KB\n"
     ]
    }
   ],
   "source": [
    "df.info()\n"
   ]
  },
  {
   "cell_type": "markdown",
   "id": "3583a988",
   "metadata": {},
   "source": [
    "Using the info method we are able to confirm the non null count details as well as the datatype information. We have all 6 columns showing as object datatype therefore some data cleaning is required to fix those details."
   ]
  },
  {
   "cell_type": "code",
   "execution_count": 10,
   "id": "965783c7",
   "metadata": {},
   "outputs": [
    {
     "data": {
      "text/html": [
       "<div>\n",
       "<style scoped>\n",
       "    .dataframe tbody tr th:only-of-type {\n",
       "        vertical-align: middle;\n",
       "    }\n",
       "\n",
       "    .dataframe tbody tr th {\n",
       "        vertical-align: top;\n",
       "    }\n",
       "\n",
       "    .dataframe thead th {\n",
       "        text-align: right;\n",
       "    }\n",
       "</style>\n",
       "<table border=\"1\" class=\"dataframe\">\n",
       "  <thead>\n",
       "    <tr style=\"text-align: right;\">\n",
       "      <th></th>\n",
       "      <th>Unique Values</th>\n",
       "    </tr>\n",
       "  </thead>\n",
       "  <tbody>\n",
       "    <tr>\n",
       "      <th>Transmission Type</th>\n",
       "      <td>3</td>\n",
       "    </tr>\n",
       "    <tr>\n",
       "      <th>Fuel Type</th>\n",
       "      <td>6</td>\n",
       "    </tr>\n",
       "    <tr>\n",
       "      <th>Year of Manufacture</th>\n",
       "      <td>31</td>\n",
       "    </tr>\n",
       "    <tr>\n",
       "      <th>Used Car Price</th>\n",
       "      <td>940</td>\n",
       "    </tr>\n",
       "    <tr>\n",
       "      <th>Kilometers Driven</th>\n",
       "      <td>1094</td>\n",
       "    </tr>\n",
       "    <tr>\n",
       "      <th>Used Car Model</th>\n",
       "      <td>2056</td>\n",
       "    </tr>\n",
       "  </tbody>\n",
       "</table>\n",
       "</div>"
      ],
      "text/plain": [
       "                     Unique Values\n",
       "Transmission Type                3\n",
       "Fuel Type                        6\n",
       "Year of Manufacture             31\n",
       "Used Car Price                 940\n",
       "Kilometers Driven             1094\n",
       "Used Car Model                2056"
      ]
     },
     "execution_count": 10,
     "metadata": {},
     "output_type": "execute_result"
    }
   ],
   "source": [
    "df.nunique().sort_values().to_frame(\"Unique Values\")"
   ]
  },
  {
   "cell_type": "markdown",
   "id": "40dd7eb1",
   "metadata": {},
   "source": [
    "With the help of nunique and sort_values methods we can see the number of unique values present in each of the columns in our dataset."
   ]
  },
  {
   "cell_type": "code",
   "execution_count": 11,
   "id": "480d0b5d",
   "metadata": {},
   "outputs": [
    {
     "name": "stdout",
     "output_type": "stream",
     "text": [
      "Transmission Type\n",
      "Manual       8408\n",
      "Automatic    1402\n",
      "-             190\n",
      "Name: Transmission Type, dtype: int64\n",
      "========================================================================================================================\n",
      "Fuel Type\n",
      "Diesel           5345\n",
      "Petrol           4386\n",
      "CNG & Hybrids     108\n",
      "CNG                57\n",
      "-                  56\n",
      "LPG                48\n",
      "Name: Fuel Type, dtype: int64\n",
      "========================================================================================================================\n",
      "Year of Manufacture\n",
      "2017    1099\n",
      "2016    1021\n",
      "2018     983\n",
      "2015     975\n",
      "2012     844\n",
      "2013     802\n",
      "2014     798\n",
      "2011     733\n",
      "2019     642\n",
      "2010     519\n",
      "2009     366\n",
      "2008     300\n",
      "2007     207\n",
      "2006     148\n",
      "2020     132\n",
      "2005     112\n",
      "2004      71\n",
      "2003      55\n",
      "2002      45\n",
      "-         44\n",
      "1999      24\n",
      "2000      24\n",
      "2001      16\n",
      "1997      11\n",
      "2021      10\n",
      "1998       9\n",
      "1996       3\n",
      "1994       3\n",
      "1995       2\n",
      "1983       1\n",
      "1991       1\n",
      "Name: Year of Manufacture, dtype: int64\n",
      "========================================================================================================================\n"
     ]
    }
   ],
   "source": [
    "value = [\"Transmission Type\", \"Fuel Type\", \"Year of Manufacture\"]\n",
    "for col in value:\n",
    "    print(col)\n",
    "    print(df[col].value_counts())\n",
    "    print(\"=\"*120)"
   ]
  },
  {
   "cell_type": "markdown",
   "id": "4c975543",
   "metadata": {},
   "source": [
    "I have listed the unique value information for the columns \"Transmission Type\", \"Fuel Type\" and \"Year of Manufacture\" to see the values and research accordingly for the replacement of the \"-\" values"
   ]
  },
  {
   "cell_type": "code",
   "execution_count": 12,
   "id": "acfbbbf9",
   "metadata": {},
   "outputs": [
    {
     "data": {
      "text/html": [
       "<div>\n",
       "<style scoped>\n",
       "    .dataframe tbody tr th:only-of-type {\n",
       "        vertical-align: middle;\n",
       "    }\n",
       "\n",
       "    .dataframe tbody tr th {\n",
       "        vertical-align: top;\n",
       "    }\n",
       "\n",
       "    .dataframe thead th {\n",
       "        text-align: right;\n",
       "    }\n",
       "</style>\n",
       "<table border=\"1\" class=\"dataframe\">\n",
       "  <thead>\n",
       "    <tr style=\"text-align: right;\">\n",
       "      <th></th>\n",
       "      <th>Used Car Model</th>\n",
       "      <th>Year of Manufacture</th>\n",
       "      <th>Kilometers Driven</th>\n",
       "      <th>Fuel Type</th>\n",
       "      <th>Transmission Type</th>\n",
       "      <th>Used Car Price</th>\n",
       "    </tr>\n",
       "  </thead>\n",
       "  <tbody>\n",
       "    <tr>\n",
       "      <th>0</th>\n",
       "      <td>Hyundai</td>\n",
       "      <td>2017</td>\n",
       "      <td>2200</td>\n",
       "      <td>Petrol</td>\n",
       "      <td>Manual</td>\n",
       "      <td>5,25,000</td>\n",
       "    </tr>\n",
       "    <tr>\n",
       "      <th>1</th>\n",
       "      <td>Hyundai</td>\n",
       "      <td>2013</td>\n",
       "      <td>91500</td>\n",
       "      <td>Diesel</td>\n",
       "      <td>Manual</td>\n",
       "      <td>5,95,000</td>\n",
       "    </tr>\n",
       "    <tr>\n",
       "      <th>2</th>\n",
       "      <td>Ford</td>\n",
       "      <td>2017</td>\n",
       "      <td>36000</td>\n",
       "      <td>Diesel</td>\n",
       "      <td>Manual</td>\n",
       "      <td>7,75,000</td>\n",
       "    </tr>\n",
       "    <tr>\n",
       "      <th>3</th>\n",
       "      <td>Honda</td>\n",
       "      <td>2015</td>\n",
       "      <td>90000</td>\n",
       "      <td>Diesel</td>\n",
       "      <td>Manual</td>\n",
       "      <td>4,00,000</td>\n",
       "    </tr>\n",
       "    <tr>\n",
       "      <th>4</th>\n",
       "      <td>Maruti Suzuki</td>\n",
       "      <td>2010</td>\n",
       "      <td>40000</td>\n",
       "      <td>Petrol</td>\n",
       "      <td>Manual</td>\n",
       "      <td>2,30,000</td>\n",
       "    </tr>\n",
       "    <tr>\n",
       "      <th>...</th>\n",
       "      <td>...</td>\n",
       "      <td>...</td>\n",
       "      <td>...</td>\n",
       "      <td>...</td>\n",
       "      <td>...</td>\n",
       "      <td>...</td>\n",
       "    </tr>\n",
       "    <tr>\n",
       "      <th>9995</th>\n",
       "      <td>Hyundai</td>\n",
       "      <td>2012</td>\n",
       "      <td>65000</td>\n",
       "      <td>Petrol</td>\n",
       "      <td>Manual</td>\n",
       "      <td>3,25,000</td>\n",
       "    </tr>\n",
       "    <tr>\n",
       "      <th>9996</th>\n",
       "      <td>Maruti Suzuki</td>\n",
       "      <td>2018</td>\n",
       "      <td>85000</td>\n",
       "      <td>CNG &amp; Hybrids</td>\n",
       "      <td>Manual</td>\n",
       "      <td>2,90,000</td>\n",
       "    </tr>\n",
       "    <tr>\n",
       "      <th>9997</th>\n",
       "      <td>Maruti Suzuki</td>\n",
       "      <td>2010</td>\n",
       "      <td>72000</td>\n",
       "      <td>Petrol</td>\n",
       "      <td>Manual</td>\n",
       "      <td>3,20,000</td>\n",
       "    </tr>\n",
       "    <tr>\n",
       "      <th>9998</th>\n",
       "      <td>Tata</td>\n",
       "      <td>2012</td>\n",
       "      <td>70000</td>\n",
       "      <td>Diesel</td>\n",
       "      <td>Manual</td>\n",
       "      <td>1,85,000</td>\n",
       "    </tr>\n",
       "    <tr>\n",
       "      <th>9999</th>\n",
       "      <td>Ford</td>\n",
       "      <td>2018</td>\n",
       "      <td>53764</td>\n",
       "      <td>Diesel</td>\n",
       "      <td>Manual</td>\n",
       "      <td>8,75,000</td>\n",
       "    </tr>\n",
       "  </tbody>\n",
       "</table>\n",
       "<p>10000 rows × 6 columns</p>\n",
       "</div>"
      ],
      "text/plain": [
       "     Used Car Model Year of Manufacture  Kilometers Driven      Fuel Type  \\\n",
       "0           Hyundai                2017               2200         Petrol   \n",
       "1           Hyundai                2013              91500         Diesel   \n",
       "2              Ford                2017              36000         Diesel   \n",
       "3             Honda                2015              90000         Diesel   \n",
       "4     Maruti Suzuki                2010              40000         Petrol   \n",
       "...             ...                 ...                ...            ...   \n",
       "9995        Hyundai                2012              65000         Petrol   \n",
       "9996  Maruti Suzuki                2018              85000  CNG & Hybrids   \n",
       "9997  Maruti Suzuki                2010              72000         Petrol   \n",
       "9998           Tata                2012              70000         Diesel   \n",
       "9999           Ford                2018              53764         Diesel   \n",
       "\n",
       "     Transmission Type Used Car Price  \n",
       "0               Manual       5,25,000  \n",
       "1               Manual       5,95,000  \n",
       "2               Manual       7,75,000  \n",
       "3               Manual       4,00,000  \n",
       "4               Manual       2,30,000  \n",
       "...                ...            ...  \n",
       "9995            Manual       3,25,000  \n",
       "9996            Manual       2,90,000  \n",
       "9997            Manual       3,20,000  \n",
       "9998            Manual       1,85,000  \n",
       "9999            Manual       8,75,000  \n",
       "\n",
       "[10000 rows x 6 columns]"
      ]
     },
     "execution_count": 12,
     "metadata": {},
     "output_type": "execute_result"
    }
   ],
   "source": [
    "# Data pre processing\n",
    "\n",
    "df[\"Kilometers Driven\"]=df[\"Kilometers Driven\"].apply(lambda x: x.replace(',','') if x!='-' else '-')\n",
    "df[\"Kilometers Driven\"]=df[\"Kilometers Driven\"].apply(lambda x: int(x.split(' ')[0]) if x!='-' else 0)\n",
    "df"
   ]
  },
  {
   "cell_type": "code",
   "execution_count": 13,
   "id": "90a5c52d",
   "metadata": {},
   "outputs": [
    {
     "data": {
      "text/html": [
       "<div>\n",
       "<style scoped>\n",
       "    .dataframe tbody tr th:only-of-type {\n",
       "        vertical-align: middle;\n",
       "    }\n",
       "\n",
       "    .dataframe tbody tr th {\n",
       "        vertical-align: top;\n",
       "    }\n",
       "\n",
       "    .dataframe thead th {\n",
       "        text-align: right;\n",
       "    }\n",
       "</style>\n",
       "<table border=\"1\" class=\"dataframe\">\n",
       "  <thead>\n",
       "    <tr style=\"text-align: right;\">\n",
       "      <th></th>\n",
       "      <th>Used Car Model</th>\n",
       "      <th>Year of Manufacture</th>\n",
       "      <th>Kilometers Driven</th>\n",
       "      <th>Fuel Type</th>\n",
       "      <th>Transmission Type</th>\n",
       "      <th>Used Car Price</th>\n",
       "    </tr>\n",
       "  </thead>\n",
       "  <tbody>\n",
       "    <tr>\n",
       "      <th>0</th>\n",
       "      <td>Hyundai</td>\n",
       "      <td>2017</td>\n",
       "      <td>2200</td>\n",
       "      <td>Petrol</td>\n",
       "      <td>Manual</td>\n",
       "      <td>525000.0</td>\n",
       "    </tr>\n",
       "    <tr>\n",
       "      <th>1</th>\n",
       "      <td>Hyundai</td>\n",
       "      <td>2013</td>\n",
       "      <td>91500</td>\n",
       "      <td>Diesel</td>\n",
       "      <td>Manual</td>\n",
       "      <td>595000.0</td>\n",
       "    </tr>\n",
       "    <tr>\n",
       "      <th>2</th>\n",
       "      <td>Ford</td>\n",
       "      <td>2017</td>\n",
       "      <td>36000</td>\n",
       "      <td>Diesel</td>\n",
       "      <td>Manual</td>\n",
       "      <td>775000.0</td>\n",
       "    </tr>\n",
       "    <tr>\n",
       "      <th>3</th>\n",
       "      <td>Honda</td>\n",
       "      <td>2015</td>\n",
       "      <td>90000</td>\n",
       "      <td>Diesel</td>\n",
       "      <td>Manual</td>\n",
       "      <td>400000.0</td>\n",
       "    </tr>\n",
       "    <tr>\n",
       "      <th>4</th>\n",
       "      <td>Maruti Suzuki</td>\n",
       "      <td>2010</td>\n",
       "      <td>40000</td>\n",
       "      <td>Petrol</td>\n",
       "      <td>Manual</td>\n",
       "      <td>230000.0</td>\n",
       "    </tr>\n",
       "    <tr>\n",
       "      <th>...</th>\n",
       "      <td>...</td>\n",
       "      <td>...</td>\n",
       "      <td>...</td>\n",
       "      <td>...</td>\n",
       "      <td>...</td>\n",
       "      <td>...</td>\n",
       "    </tr>\n",
       "    <tr>\n",
       "      <th>9995</th>\n",
       "      <td>Hyundai</td>\n",
       "      <td>2012</td>\n",
       "      <td>65000</td>\n",
       "      <td>Petrol</td>\n",
       "      <td>Manual</td>\n",
       "      <td>325000.0</td>\n",
       "    </tr>\n",
       "    <tr>\n",
       "      <th>9996</th>\n",
       "      <td>Maruti Suzuki</td>\n",
       "      <td>2018</td>\n",
       "      <td>85000</td>\n",
       "      <td>CNG &amp; Hybrids</td>\n",
       "      <td>Manual</td>\n",
       "      <td>290000.0</td>\n",
       "    </tr>\n",
       "    <tr>\n",
       "      <th>9997</th>\n",
       "      <td>Maruti Suzuki</td>\n",
       "      <td>2010</td>\n",
       "      <td>72000</td>\n",
       "      <td>Petrol</td>\n",
       "      <td>Manual</td>\n",
       "      <td>320000.0</td>\n",
       "    </tr>\n",
       "    <tr>\n",
       "      <th>9998</th>\n",
       "      <td>Tata</td>\n",
       "      <td>2012</td>\n",
       "      <td>70000</td>\n",
       "      <td>Diesel</td>\n",
       "      <td>Manual</td>\n",
       "      <td>185000.0</td>\n",
       "    </tr>\n",
       "    <tr>\n",
       "      <th>9999</th>\n",
       "      <td>Ford</td>\n",
       "      <td>2018</td>\n",
       "      <td>53764</td>\n",
       "      <td>Diesel</td>\n",
       "      <td>Manual</td>\n",
       "      <td>875000.0</td>\n",
       "    </tr>\n",
       "  </tbody>\n",
       "</table>\n",
       "<p>10000 rows × 6 columns</p>\n",
       "</div>"
      ],
      "text/plain": [
       "     Used Car Model Year of Manufacture  Kilometers Driven      Fuel Type  \\\n",
       "0           Hyundai                2017               2200         Petrol   \n",
       "1           Hyundai                2013              91500         Diesel   \n",
       "2              Ford                2017              36000         Diesel   \n",
       "3             Honda                2015              90000         Diesel   \n",
       "4     Maruti Suzuki                2010              40000         Petrol   \n",
       "...             ...                 ...                ...            ...   \n",
       "9995        Hyundai                2012              65000         Petrol   \n",
       "9996  Maruti Suzuki                2018              85000  CNG & Hybrids   \n",
       "9997  Maruti Suzuki                2010              72000         Petrol   \n",
       "9998           Tata                2012              70000         Diesel   \n",
       "9999           Ford                2018              53764         Diesel   \n",
       "\n",
       "     Transmission Type  Used Car Price  \n",
       "0               Manual        525000.0  \n",
       "1               Manual        595000.0  \n",
       "2               Manual        775000.0  \n",
       "3               Manual        400000.0  \n",
       "4               Manual        230000.0  \n",
       "...                ...             ...  \n",
       "9995            Manual        325000.0  \n",
       "9996            Manual        290000.0  \n",
       "9997            Manual        320000.0  \n",
       "9998            Manual        185000.0  \n",
       "9999            Manual        875000.0  \n",
       "\n",
       "[10000 rows x 6 columns]"
      ]
     },
     "execution_count": 13,
     "metadata": {},
     "output_type": "execute_result"
    }
   ],
   "source": [
    "try:\n",
    "    df[\"Used Car Price\"]=df[\"Used Car Price\"].apply(lambda x: x.split(' ')[1] if x!='-' else '0,0')\n",
    "except IndexError:\n",
    "    pass\n",
    "\n",
    "try:\n",
    "    df[\"Used Car Price\"]=df[\"Used Car Price\"].apply(lambda x: str(x.replace(',', '')))\n",
    "except ValueError:\n",
    "    pass\n",
    "\n",
    "df[\"Used Car Price\"]=df[\"Used Car Price\"].str.strip() # removing extra white space from the column records\n",
    "df[\"Used Car Price\"]=pd.to_numeric(df[\"Used Car Price\"].str.replace('-','0'), errors='coerce')\n",
    "df[\"Used Car Price\"]=df[\"Used Car Price\"].astype(float) # converting object to float data type\n",
    "df"
   ]
  },
  {
   "cell_type": "markdown",
   "id": "445f367c",
   "metadata": {},
   "source": [
    "Our target label contained price values but was stored as object datatype therefore we first ensured that it is changed to proper numeric data and then converted to float data type."
   ]
  },
  {
   "cell_type": "code",
   "execution_count": 14,
   "id": "5ae20075",
   "metadata": {},
   "outputs": [
    {
     "data": {
      "text/html": [
       "<div>\n",
       "<style scoped>\n",
       "    .dataframe tbody tr th:only-of-type {\n",
       "        vertical-align: middle;\n",
       "    }\n",
       "\n",
       "    .dataframe tbody tr th {\n",
       "        vertical-align: top;\n",
       "    }\n",
       "\n",
       "    .dataframe thead th {\n",
       "        text-align: right;\n",
       "    }\n",
       "</style>\n",
       "<table border=\"1\" class=\"dataframe\">\n",
       "  <thead>\n",
       "    <tr style=\"text-align: right;\">\n",
       "      <th></th>\n",
       "      <th>Used Car Model</th>\n",
       "      <th>Year of Manufacture</th>\n",
       "      <th>Kilometers Driven</th>\n",
       "      <th>Fuel Type</th>\n",
       "      <th>Transmission Type</th>\n",
       "      <th>Used Car Price</th>\n",
       "    </tr>\n",
       "  </thead>\n",
       "  <tbody>\n",
       "    <tr>\n",
       "      <th>0</th>\n",
       "      <td>Hyundai</td>\n",
       "      <td>2017</td>\n",
       "      <td>2200</td>\n",
       "      <td>Petrol</td>\n",
       "      <td>Manual</td>\n",
       "      <td>525000.0</td>\n",
       "    </tr>\n",
       "    <tr>\n",
       "      <th>1</th>\n",
       "      <td>Hyundai</td>\n",
       "      <td>2013</td>\n",
       "      <td>91500</td>\n",
       "      <td>Diesel</td>\n",
       "      <td>Manual</td>\n",
       "      <td>595000.0</td>\n",
       "    </tr>\n",
       "    <tr>\n",
       "      <th>2</th>\n",
       "      <td>Ford</td>\n",
       "      <td>2017</td>\n",
       "      <td>36000</td>\n",
       "      <td>Diesel</td>\n",
       "      <td>Manual</td>\n",
       "      <td>775000.0</td>\n",
       "    </tr>\n",
       "    <tr>\n",
       "      <th>3</th>\n",
       "      <td>Honda</td>\n",
       "      <td>2015</td>\n",
       "      <td>90000</td>\n",
       "      <td>Diesel</td>\n",
       "      <td>Manual</td>\n",
       "      <td>400000.0</td>\n",
       "    </tr>\n",
       "    <tr>\n",
       "      <th>4</th>\n",
       "      <td>Maruti Suzuki</td>\n",
       "      <td>2010</td>\n",
       "      <td>40000</td>\n",
       "      <td>Petrol</td>\n",
       "      <td>Manual</td>\n",
       "      <td>230000.0</td>\n",
       "    </tr>\n",
       "    <tr>\n",
       "      <th>...</th>\n",
       "      <td>...</td>\n",
       "      <td>...</td>\n",
       "      <td>...</td>\n",
       "      <td>...</td>\n",
       "      <td>...</td>\n",
       "      <td>...</td>\n",
       "    </tr>\n",
       "    <tr>\n",
       "      <th>9995</th>\n",
       "      <td>Hyundai</td>\n",
       "      <td>2012</td>\n",
       "      <td>65000</td>\n",
       "      <td>Petrol</td>\n",
       "      <td>Manual</td>\n",
       "      <td>325000.0</td>\n",
       "    </tr>\n",
       "    <tr>\n",
       "      <th>9996</th>\n",
       "      <td>Maruti Suzuki</td>\n",
       "      <td>2018</td>\n",
       "      <td>85000</td>\n",
       "      <td>CNG &amp; Hybrids</td>\n",
       "      <td>Manual</td>\n",
       "      <td>290000.0</td>\n",
       "    </tr>\n",
       "    <tr>\n",
       "      <th>9997</th>\n",
       "      <td>Maruti Suzuki</td>\n",
       "      <td>2010</td>\n",
       "      <td>72000</td>\n",
       "      <td>Petrol</td>\n",
       "      <td>Manual</td>\n",
       "      <td>320000.0</td>\n",
       "    </tr>\n",
       "    <tr>\n",
       "      <th>9998</th>\n",
       "      <td>Tata</td>\n",
       "      <td>2012</td>\n",
       "      <td>70000</td>\n",
       "      <td>Diesel</td>\n",
       "      <td>Manual</td>\n",
       "      <td>185000.0</td>\n",
       "    </tr>\n",
       "    <tr>\n",
       "      <th>9999</th>\n",
       "      <td>Ford</td>\n",
       "      <td>2018</td>\n",
       "      <td>53764</td>\n",
       "      <td>Diesel</td>\n",
       "      <td>Manual</td>\n",
       "      <td>875000.0</td>\n",
       "    </tr>\n",
       "  </tbody>\n",
       "</table>\n",
       "<p>10000 rows × 6 columns</p>\n",
       "</div>"
      ],
      "text/plain": [
       "     Used Car Model  Year of Manufacture  Kilometers Driven      Fuel Type  \\\n",
       "0           Hyundai                 2017               2200         Petrol   \n",
       "1           Hyundai                 2013              91500         Diesel   \n",
       "2              Ford                 2017              36000         Diesel   \n",
       "3             Honda                 2015              90000         Diesel   \n",
       "4     Maruti Suzuki                 2010              40000         Petrol   \n",
       "...             ...                  ...                ...            ...   \n",
       "9995        Hyundai                 2012              65000         Petrol   \n",
       "9996  Maruti Suzuki                 2018              85000  CNG & Hybrids   \n",
       "9997  Maruti Suzuki                 2010              72000         Petrol   \n",
       "9998           Tata                 2012              70000         Diesel   \n",
       "9999           Ford                 2018              53764         Diesel   \n",
       "\n",
       "     Transmission Type  Used Car Price  \n",
       "0               Manual        525000.0  \n",
       "1               Manual        595000.0  \n",
       "2               Manual        775000.0  \n",
       "3               Manual        400000.0  \n",
       "4               Manual        230000.0  \n",
       "...                ...             ...  \n",
       "9995            Manual        325000.0  \n",
       "9996            Manual        290000.0  \n",
       "9997            Manual        320000.0  \n",
       "9998            Manual        185000.0  \n",
       "9999            Manual        875000.0  \n",
       "\n",
       "[10000 rows x 6 columns]"
      ]
     },
     "execution_count": 14,
     "metadata": {},
     "output_type": "execute_result"
    }
   ],
   "source": [
    "df[\"Year of Manufacture\"]=df[\"Year of Manufacture\"].apply(lambda x: int(x.strip()[0:4]) if x!='-' else 0)\n",
    "median_val_year=df[\"Year of Manufacture\"].median()\n",
    "df[\"Year of Manufacture\"]=df[\"Year of Manufacture\"].apply(lambda x: x if x!=0 else median_val_year)\n",
    "df[\"Year of Manufacture\"]=df[\"Year of Manufacture\"].astype(int)\n",
    "df"
   ]
  },
  {
   "cell_type": "markdown",
   "id": "8b72a023",
   "metadata": {},
   "source": [
    "Now we are changing the year value from object to integer datatype but before that we have removed all \"-\" and replaced them with the median year value."
   ]
  },
  {
   "cell_type": "code",
   "execution_count": 15,
   "id": "902ede74",
   "metadata": {},
   "outputs": [
    {
     "data": {
      "text/html": [
       "<div>\n",
       "<style scoped>\n",
       "    .dataframe tbody tr th:only-of-type {\n",
       "        vertical-align: middle;\n",
       "    }\n",
       "\n",
       "    .dataframe tbody tr th {\n",
       "        vertical-align: top;\n",
       "    }\n",
       "\n",
       "    .dataframe thead th {\n",
       "        text-align: right;\n",
       "    }\n",
       "</style>\n",
       "<table border=\"1\" class=\"dataframe\">\n",
       "  <thead>\n",
       "    <tr style=\"text-align: right;\">\n",
       "      <th></th>\n",
       "      <th>Used Car Model</th>\n",
       "      <th>Year of Manufacture</th>\n",
       "      <th>Kilometers Driven</th>\n",
       "      <th>Fuel Type</th>\n",
       "      <th>Transmission Type</th>\n",
       "      <th>Used Car Price</th>\n",
       "    </tr>\n",
       "  </thead>\n",
       "  <tbody>\n",
       "    <tr>\n",
       "      <th>0</th>\n",
       "      <td>Hyundai</td>\n",
       "      <td>2017</td>\n",
       "      <td>2200</td>\n",
       "      <td>Petrol</td>\n",
       "      <td>Manual</td>\n",
       "      <td>525000.0</td>\n",
       "    </tr>\n",
       "    <tr>\n",
       "      <th>1</th>\n",
       "      <td>Hyundai</td>\n",
       "      <td>2013</td>\n",
       "      <td>91500</td>\n",
       "      <td>Diesel</td>\n",
       "      <td>Manual</td>\n",
       "      <td>595000.0</td>\n",
       "    </tr>\n",
       "    <tr>\n",
       "      <th>2</th>\n",
       "      <td>Ford</td>\n",
       "      <td>2017</td>\n",
       "      <td>36000</td>\n",
       "      <td>Diesel</td>\n",
       "      <td>Manual</td>\n",
       "      <td>775000.0</td>\n",
       "    </tr>\n",
       "    <tr>\n",
       "      <th>3</th>\n",
       "      <td>Honda</td>\n",
       "      <td>2015</td>\n",
       "      <td>90000</td>\n",
       "      <td>Diesel</td>\n",
       "      <td>Manual</td>\n",
       "      <td>400000.0</td>\n",
       "    </tr>\n",
       "    <tr>\n",
       "      <th>4</th>\n",
       "      <td>Maruti Suzuki</td>\n",
       "      <td>2010</td>\n",
       "      <td>40000</td>\n",
       "      <td>Petrol</td>\n",
       "      <td>Manual</td>\n",
       "      <td>230000.0</td>\n",
       "    </tr>\n",
       "    <tr>\n",
       "      <th>...</th>\n",
       "      <td>...</td>\n",
       "      <td>...</td>\n",
       "      <td>...</td>\n",
       "      <td>...</td>\n",
       "      <td>...</td>\n",
       "      <td>...</td>\n",
       "    </tr>\n",
       "    <tr>\n",
       "      <th>9995</th>\n",
       "      <td>Hyundai</td>\n",
       "      <td>2012</td>\n",
       "      <td>65000</td>\n",
       "      <td>Petrol</td>\n",
       "      <td>Manual</td>\n",
       "      <td>325000.0</td>\n",
       "    </tr>\n",
       "    <tr>\n",
       "      <th>9996</th>\n",
       "      <td>Maruti Suzuki</td>\n",
       "      <td>2018</td>\n",
       "      <td>85000</td>\n",
       "      <td>CNG &amp; Hybrids</td>\n",
       "      <td>Manual</td>\n",
       "      <td>290000.0</td>\n",
       "    </tr>\n",
       "    <tr>\n",
       "      <th>9997</th>\n",
       "      <td>Maruti Suzuki</td>\n",
       "      <td>2010</td>\n",
       "      <td>72000</td>\n",
       "      <td>Petrol</td>\n",
       "      <td>Manual</td>\n",
       "      <td>320000.0</td>\n",
       "    </tr>\n",
       "    <tr>\n",
       "      <th>9998</th>\n",
       "      <td>Tata</td>\n",
       "      <td>2012</td>\n",
       "      <td>70000</td>\n",
       "      <td>Diesel</td>\n",
       "      <td>Manual</td>\n",
       "      <td>185000.0</td>\n",
       "    </tr>\n",
       "    <tr>\n",
       "      <th>9999</th>\n",
       "      <td>Ford</td>\n",
       "      <td>2018</td>\n",
       "      <td>53764</td>\n",
       "      <td>Diesel</td>\n",
       "      <td>Manual</td>\n",
       "      <td>875000.0</td>\n",
       "    </tr>\n",
       "  </tbody>\n",
       "</table>\n",
       "<p>10000 rows × 6 columns</p>\n",
       "</div>"
      ],
      "text/plain": [
       "     Used Car Model  Year of Manufacture  Kilometers Driven      Fuel Type  \\\n",
       "0           Hyundai                 2017               2200         Petrol   \n",
       "1           Hyundai                 2013              91500         Diesel   \n",
       "2              Ford                 2017              36000         Diesel   \n",
       "3             Honda                 2015              90000         Diesel   \n",
       "4     Maruti Suzuki                 2010              40000         Petrol   \n",
       "...             ...                  ...                ...            ...   \n",
       "9995        Hyundai                 2012              65000         Petrol   \n",
       "9996  Maruti Suzuki                 2018              85000  CNG & Hybrids   \n",
       "9997  Maruti Suzuki                 2010              72000         Petrol   \n",
       "9998           Tata                 2012              70000         Diesel   \n",
       "9999           Ford                 2018              53764         Diesel   \n",
       "\n",
       "     Transmission Type  Used Car Price  \n",
       "0               Manual        525000.0  \n",
       "1               Manual        595000.0  \n",
       "2               Manual        775000.0  \n",
       "3               Manual        400000.0  \n",
       "4               Manual        230000.0  \n",
       "...                ...             ...  \n",
       "9995            Manual        325000.0  \n",
       "9996            Manual        290000.0  \n",
       "9997            Manual        320000.0  \n",
       "9998            Manual        185000.0  \n",
       "9999            Manual        875000.0  \n",
       "\n",
       "[10000 rows x 6 columns]"
      ]
     },
     "execution_count": 15,
     "metadata": {},
     "output_type": "execute_result"
    }
   ],
   "source": [
    "df[\"Fuel Type\"]=df[\"Fuel Type\"].apply(lambda x: x if x!='-' else 'Petrol') # replacing with common fuel type in india\n",
    "df[\"Transmission Type\"]=df[\"Transmission Type\"].apply(lambda x: x if x!='-' else 'Manual') # common transmission is manual\n",
    "df[\"Used Car Model\"]=df[\"Used Car Model\"].apply(lambda x: x if x!='-' else 'Hyundai') # common used car model\n",
    "df[\"Kilometers Driven\"]=df[\"Kilometers Driven\"].apply(lambda x: x if x!='-' else 'None')\n",
    "avg_usedcar_price=df[\"Used Car Price\"].mean()\n",
    "df[\"Used Car Price\"]=df[\"Used Car Price\"].apply(lambda x: x if x!='-' else avg_usedcar_price) # average used car prices\n",
    "df"
   ]
  },
  {
   "cell_type": "markdown",
   "id": "1910aebe",
   "metadata": {},
   "source": [
    "Here I have ensured that all the remaining columns with \"-\" records are been treated and replaced with values that made sense researching on Google and using proper replacement techniques"
   ]
  },
  {
   "cell_type": "code",
   "execution_count": 16,
   "id": "19170597",
   "metadata": {},
   "outputs": [
    {
     "data": {
      "text/html": [
       "<div>\n",
       "<style scoped>\n",
       "    .dataframe tbody tr th:only-of-type {\n",
       "        vertical-align: middle;\n",
       "    }\n",
       "\n",
       "    .dataframe tbody tr th {\n",
       "        vertical-align: top;\n",
       "    }\n",
       "\n",
       "    .dataframe thead th {\n",
       "        text-align: right;\n",
       "    }\n",
       "</style>\n",
       "<table border=\"1\" class=\"dataframe\">\n",
       "  <thead>\n",
       "    <tr style=\"text-align: right;\">\n",
       "      <th></th>\n",
       "      <th>Unique Values</th>\n",
       "    </tr>\n",
       "  </thead>\n",
       "  <tbody>\n",
       "    <tr>\n",
       "      <th>Transmission Type</th>\n",
       "      <td>2</td>\n",
       "    </tr>\n",
       "    <tr>\n",
       "      <th>Fuel Type</th>\n",
       "      <td>5</td>\n",
       "    </tr>\n",
       "    <tr>\n",
       "      <th>Year of Manufacture</th>\n",
       "      <td>30</td>\n",
       "    </tr>\n",
       "    <tr>\n",
       "      <th>Used Car Price</th>\n",
       "      <td>751</td>\n",
       "    </tr>\n",
       "    <tr>\n",
       "      <th>Kilometers Driven</th>\n",
       "      <td>979</td>\n",
       "    </tr>\n",
       "    <tr>\n",
       "      <th>Used Car Model</th>\n",
       "      <td>2055</td>\n",
       "    </tr>\n",
       "  </tbody>\n",
       "</table>\n",
       "</div>"
      ],
      "text/plain": [
       "                     Unique Values\n",
       "Transmission Type                2\n",
       "Fuel Type                        5\n",
       "Year of Manufacture             30\n",
       "Used Car Price                 751\n",
       "Kilometers Driven              979\n",
       "Used Car Model                2055"
      ]
     },
     "execution_count": 16,
     "metadata": {},
     "output_type": "execute_result"
    }
   ],
   "source": [
    "df.nunique().sort_values().to_frame(\"Unique Values\")"
   ]
  },
  {
   "cell_type": "code",
   "execution_count": 17,
   "id": "9984e176",
   "metadata": {},
   "outputs": [
    {
     "name": "stdout",
     "output_type": "stream",
     "text": [
      "Transmission Type\n",
      "Manual       8598\n",
      "Automatic    1402\n",
      "Name: Transmission Type, dtype: int64\n",
      "========================================================================================================================\n",
      "Fuel Type\n",
      "Diesel           5345\n",
      "Petrol           4442\n",
      "CNG & Hybrids     108\n",
      "CNG                57\n",
      "LPG                48\n",
      "Name: Fuel Type, dtype: int64\n",
      "========================================================================================================================\n",
      "Year of Manufacture\n",
      "2017    1099\n",
      "2016    1021\n",
      "2018     983\n",
      "2015     975\n",
      "2012     844\n",
      "2014     842\n",
      "2013     802\n",
      "2011     733\n",
      "2019     642\n",
      "2010     519\n",
      "2009     366\n",
      "2008     300\n",
      "2007     207\n",
      "2006     148\n",
      "2020     132\n",
      "2005     112\n",
      "2004      71\n",
      "2003      55\n",
      "2002      45\n",
      "1999      24\n",
      "2000      24\n",
      "2001      16\n",
      "1997      11\n",
      "2021      10\n",
      "1998       9\n",
      "1996       3\n",
      "1994       3\n",
      "1995       2\n",
      "1983       1\n",
      "1991       1\n",
      "Name: Year of Manufacture, dtype: int64\n",
      "========================================================================================================================\n"
     ]
    }
   ],
   "source": [
    "for col in value:\n",
    "    print(col)\n",
    "    print(df[col].value_counts())\n",
    "    print(\"=\"*120)"
   ]
  },
  {
   "cell_type": "markdown",
   "id": "f53c67a8",
   "metadata": {},
   "source": [
    "Took a look at the initial unique value column data that had less that 50 values."
   ]
  },
  {
   "cell_type": "code",
   "execution_count": 18,
   "id": "8ba39ba4",
   "metadata": {},
   "outputs": [
    {
     "name": "stdout",
     "output_type": "stream",
     "text": [
      "<class 'pandas.core.frame.DataFrame'>\n",
      "RangeIndex: 10000 entries, 0 to 9999\n",
      "Data columns (total 6 columns):\n",
      " #   Column               Non-Null Count  Dtype  \n",
      "---  ------               --------------  -----  \n",
      " 0   Used Car Model       10000 non-null  object \n",
      " 1   Year of Manufacture  10000 non-null  int32  \n",
      " 2   Kilometers Driven    10000 non-null  int64  \n",
      " 3   Fuel Type            10000 non-null  object \n",
      " 4   Transmission Type    10000 non-null  object \n",
      " 5   Used Car Price       10000 non-null  float64\n",
      "dtypes: float64(1), int32(1), int64(1), object(3)\n",
      "memory usage: 429.8+ KB\n"
     ]
    }
   ],
   "source": [
    "df.info()"
   ]
  },
  {
   "cell_type": "code",
   "execution_count": 19,
   "id": "66c53c2d",
   "metadata": {},
   "outputs": [
    {
     "data": {
      "text/html": [
       "<div>\n",
       "<style scoped>\n",
       "    .dataframe tbody tr th:only-of-type {\n",
       "        vertical-align: middle;\n",
       "    }\n",
       "\n",
       "    .dataframe tbody tr th {\n",
       "        vertical-align: top;\n",
       "    }\n",
       "\n",
       "    .dataframe thead th {\n",
       "        text-align: right;\n",
       "    }\n",
       "</style>\n",
       "<table border=\"1\" class=\"dataframe\">\n",
       "  <thead>\n",
       "    <tr style=\"text-align: right;\">\n",
       "      <th></th>\n",
       "      <th>Used Car Model</th>\n",
       "      <th>Year of Manufacture</th>\n",
       "      <th>Kilometers Driven</th>\n",
       "      <th>Fuel Type</th>\n",
       "      <th>Transmission Type</th>\n",
       "      <th>Used Car Price</th>\n",
       "    </tr>\n",
       "  </thead>\n",
       "  <tbody>\n",
       "    <tr>\n",
       "      <th>count</th>\n",
       "      <td>10000</td>\n",
       "      <td>10000.00000</td>\n",
       "      <td>1.000000e+04</td>\n",
       "      <td>10000</td>\n",
       "      <td>10000</td>\n",
       "      <td>1.000000e+04</td>\n",
       "    </tr>\n",
       "    <tr>\n",
       "      <th>unique</th>\n",
       "      <td>2055</td>\n",
       "      <td>NaN</td>\n",
       "      <td>NaN</td>\n",
       "      <td>5</td>\n",
       "      <td>2</td>\n",
       "      <td>NaN</td>\n",
       "    </tr>\n",
       "    <tr>\n",
       "      <th>top</th>\n",
       "      <td>Maruti Suzuki</td>\n",
       "      <td>NaN</td>\n",
       "      <td>NaN</td>\n",
       "      <td>Diesel</td>\n",
       "      <td>Manual</td>\n",
       "      <td>NaN</td>\n",
       "    </tr>\n",
       "    <tr>\n",
       "      <th>freq</th>\n",
       "      <td>602</td>\n",
       "      <td>NaN</td>\n",
       "      <td>NaN</td>\n",
       "      <td>5345</td>\n",
       "      <td>8598</td>\n",
       "      <td>NaN</td>\n",
       "    </tr>\n",
       "    <tr>\n",
       "      <th>mean</th>\n",
       "      <td>NaN</td>\n",
       "      <td>2013.69860</td>\n",
       "      <td>6.914651e+04</td>\n",
       "      <td>NaN</td>\n",
       "      <td>NaN</td>\n",
       "      <td>6.608371e+05</td>\n",
       "    </tr>\n",
       "    <tr>\n",
       "      <th>std</th>\n",
       "      <td>NaN</td>\n",
       "      <td>4.02124</td>\n",
       "      <td>5.868048e+04</td>\n",
       "      <td>NaN</td>\n",
       "      <td>NaN</td>\n",
       "      <td>1.204508e+06</td>\n",
       "    </tr>\n",
       "    <tr>\n",
       "      <th>min</th>\n",
       "      <td>NaN</td>\n",
       "      <td>1983.00000</td>\n",
       "      <td>0.000000e+00</td>\n",
       "      <td>NaN</td>\n",
       "      <td>NaN</td>\n",
       "      <td>0.000000e+00</td>\n",
       "    </tr>\n",
       "    <tr>\n",
       "      <th>25%</th>\n",
       "      <td>NaN</td>\n",
       "      <td>2011.00000</td>\n",
       "      <td>3.500000e+04</td>\n",
       "      <td>NaN</td>\n",
       "      <td>NaN</td>\n",
       "      <td>2.549990e+05</td>\n",
       "    </tr>\n",
       "    <tr>\n",
       "      <th>50%</th>\n",
       "      <td>NaN</td>\n",
       "      <td>2014.00000</td>\n",
       "      <td>6.000000e+04</td>\n",
       "      <td>NaN</td>\n",
       "      <td>NaN</td>\n",
       "      <td>4.500000e+05</td>\n",
       "    </tr>\n",
       "    <tr>\n",
       "      <th>75%</th>\n",
       "      <td>NaN</td>\n",
       "      <td>2017.00000</td>\n",
       "      <td>9.000000e+04</td>\n",
       "      <td>NaN</td>\n",
       "      <td>NaN</td>\n",
       "      <td>6.770000e+05</td>\n",
       "    </tr>\n",
       "    <tr>\n",
       "      <th>max</th>\n",
       "      <td>NaN</td>\n",
       "      <td>2021.00000</td>\n",
       "      <td>2.360457e+06</td>\n",
       "      <td>NaN</td>\n",
       "      <td>NaN</td>\n",
       "      <td>6.300000e+07</td>\n",
       "    </tr>\n",
       "  </tbody>\n",
       "</table>\n",
       "</div>"
      ],
      "text/plain": [
       "       Used Car Model  Year of Manufacture  Kilometers Driven Fuel Type  \\\n",
       "count           10000          10000.00000       1.000000e+04     10000   \n",
       "unique           2055                  NaN                NaN         5   \n",
       "top     Maruti Suzuki                  NaN                NaN    Diesel   \n",
       "freq              602                  NaN                NaN      5345   \n",
       "mean              NaN           2013.69860       6.914651e+04       NaN   \n",
       "std               NaN              4.02124       5.868048e+04       NaN   \n",
       "min               NaN           1983.00000       0.000000e+00       NaN   \n",
       "25%               NaN           2011.00000       3.500000e+04       NaN   \n",
       "50%               NaN           2014.00000       6.000000e+04       NaN   \n",
       "75%               NaN           2017.00000       9.000000e+04       NaN   \n",
       "max               NaN           2021.00000       2.360457e+06       NaN   \n",
       "\n",
       "       Transmission Type  Used Car Price  \n",
       "count              10000    1.000000e+04  \n",
       "unique                 2             NaN  \n",
       "top               Manual             NaN  \n",
       "freq                8598             NaN  \n",
       "mean                 NaN    6.608371e+05  \n",
       "std                  NaN    1.204508e+06  \n",
       "min                  NaN    0.000000e+00  \n",
       "25%                  NaN    2.549990e+05  \n",
       "50%                  NaN    4.500000e+05  \n",
       "75%                  NaN    6.770000e+05  \n",
       "max                  NaN    6.300000e+07  "
      ]
     },
     "execution_count": 19,
     "metadata": {},
     "output_type": "execute_result"
    }
   ],
   "source": [
    "df.describe(include=\"all\")"
   ]
  },
  {
   "cell_type": "markdown",
   "id": "0d29d7d9",
   "metadata": {},
   "source": [
    "\n",
    "Using the describe method I am taking a look at all the column value details and basically it's count, mean, standard deviation, min, 25%, 50%, 75% and max quartile data."
   ]
  },
  {
   "cell_type": "code",
   "execution_count": 20,
   "id": "62c485ce",
   "metadata": {},
   "outputs": [],
   "source": [
    "# visualizing the statistical description of numeric datatype columns\n",
    "\n",
    "plt.figure(figsize = (10,7))\n",
    "sns.heatmap(round(df.describe()[1:],2), linewidth = 2, annot= True, fmt = \".2f\", cmap=\"hot\")\n",
    "plt.title(\"Satistical Report of Numerical Columns\\n\")\n",
    "plt.xticks(fontsize = 10)\n",
    "plt.yticks(fontsize = 10)\n",
    "plt.show()"
   ]
  },
  {
   "cell_type": "markdown",
   "id": "ab0b3390",
   "metadata": {},
   "source": [
    "In the visual representation we have taken into consideration only the numeric data part and can see that the only abnormality is used car maximum price which is higher than all the other values."
   ]
  },
  {
   "cell_type": "markdown",
   "id": "9b4a8d60",
   "metadata": {},
   "source": [
    "### Visualization"
   ]
  },
  {
   "cell_type": "code",
   "execution_count": null,
   "id": "fca21331",
   "metadata": {},
   "outputs": [],
   "source": []
  },
  {
   "cell_type": "code",
   "execution_count": 21,
   "id": "c302cad1",
   "metadata": {},
   "outputs": [],
   "source": [
    "try:\n",
    "    x = 'Transmission Type'\n",
    "    k=0\n",
    "    plt.figure(figsize=[5,7])\n",
    "    axes = sns.countplot(df[x])\n",
    "    for i in axes.patches:\n",
    "        ht = i.get_height()\n",
    "        mr = len(df[x])\n",
    "        st = f\"{ht} ({round(ht*100/mr,2)}%)\"\n",
    "        plt.text(k, ht/2, st, ha='center', fontweight='bold')\n",
    "        k += 1\n",
    "    plt.ylim(0,10000)\n",
    "    plt.title(f'Count Plot for {x} column\\n')\n",
    "    plt.ylabel(f'total number of rows covered\\n')\n",
    "    plt.show()\n",
    "    \n",
    "except Exception as e:\n",
    "    print(\"Error:\", e)\n",
    "    pass"
   ]
  },
  {
   "cell_type": "code",
   "execution_count": 22,
   "id": "ba9f021d",
   "metadata": {},
   "outputs": [],
   "source": [
    "try:\n",
    "    x = 'Fuel Type'\n",
    "    k=0\n",
    "    plt.figure(figsize=[15,7])\n",
    "    axes = sns.countplot(df[x])\n",
    "    for i in axes.patches:\n",
    "        ht = i.get_height()\n",
    "        mr = len(df[x])\n",
    "        st = f\"{ht} ({round(ht*100/mr,2)}%)\"\n",
    "        plt.text(k, ht/2, st, ha='center', fontweight='bold')\n",
    "        k += 1\n",
    "    plt.ylim(0,6000)\n",
    "    plt.title(f'Count Plot for {x} column\\n')\n",
    "    plt.ylabel(f'total number of rows covered\\n')\n",
    "    plt.show()\n",
    "    \n",
    "except Exception as e:\n",
    "    print(\"Error:\", e)\n",
    "    pass"
   ]
  },
  {
   "cell_type": "markdown",
   "id": "8869632e",
   "metadata": {},
   "source": [
    "Observation: In India most of the cars use diesel engine and the same is being reflected above. Most of the used cars run either on petrol or diesel. We do have a minimal amount of cars that run on LPG, CNG and their hybrid versions."
   ]
  },
  {
   "cell_type": "code",
   "execution_count": 23,
   "id": "b70d3383",
   "metadata": {},
   "outputs": [],
   "source": [
    "y = 'Transmission Type'\n",
    "\n",
    "x = 'Year of Manufacture'\n",
    "plt.figure(figsize=[15,7])\n",
    "sns.barplot(x,y,data=df,orient='h')\n",
    "plt.title(f\"Barplot for {x} column vs {y} column\")\n",
    "plt.show()\n",
    "\n",
    "x = 'Kilometers Driven'\n",
    "plt.figure(figsize=[15,7])\n",
    "sns.barplot(x,y,data=df,orient='h')\n",
    "plt.title(f\"Barplot for {x} column vs {y} column\")\n",
    "plt.show()\n",
    "\n",
    "x = 'Used Car Price'\n",
    "plt.figure(figsize=[15,7])\n",
    "sns.barplot(x,y,data=df,orient='h')\n",
    "plt.title(f\"Barplot for {x} column vs {y} column\")\n",
    "plt.show()"
   ]
  },
  {
   "cell_type": "markdown",
   "id": "a401bc77",
   "metadata": {},
   "source": [
    "Observation:\n",
    "1.Year of manufacture for both manual and automatic gear shifting cars are same\n",
    "2.Kilometers driven for manual cars are more than that of their automatic counterparts\n",
    "3.Used Car price for automatic one's are way higher than the manual cars"
   ]
  },
  {
   "cell_type": "code",
   "execution_count": 24,
   "id": "ed5ce378",
   "metadata": {},
   "outputs": [],
   "source": [
    "plt.figure(figsize=[15,7])\n",
    "purchased_car_per_year = df['Year of Manufacture'].value_counts()\n",
    "purchased_car_per_year.plot(kind='bar')\n",
    "plt.xlabel(\"\\nPurchase Year\")\n",
    "plt.ylabel(\"Purchased Cars\")\n",
    "plt.title(\"Purchase Year vs Number of Purchased Cars\")\n",
    "plt.show()"
   ]
  },
  {
   "cell_type": "code",
   "execution_count": 25,
   "id": "6691e7dc",
   "metadata": {},
   "outputs": [
    {
     "name": "stdout",
     "output_type": "stream",
     "text": [
      "Pair Plot with Transmission Type legend\n",
      "Pair Plot with Fuel Type legend\n"
     ]
    }
   ],
   "source": [
    "print(\"Pair Plot with Transmission Type legend\")\n",
    "sns.pairplot(df, hue='Transmission Type', diag_kind=\"kde\", kind=\"scatter\", palette=\"Set2\", height=3.5)\n",
    "plt.show()\n",
    "print(\"Pair Plot with Fuel Type legend\")\n",
    "sns.pairplot(df, hue='Fuel Type', diag_kind=\"kde\", kind=\"scatter\", palette=\"tab10\", height=3.5)\n",
    "plt.show()"
   ]
  },
  {
   "cell_type": "markdown",
   "id": "6e85caa4",
   "metadata": {},
   "source": [
    "Observation: Above we have generated the pairplots for Transmission Type and Fuel type legends on our numeric data."
   ]
  },
  {
   "cell_type": "code",
   "execution_count": 26,
   "id": "9545eec6",
   "metadata": {},
   "outputs": [
    {
     "name": "stdout",
     "output_type": "stream",
     "text": [
      "Manual transmission type used car fuel details\n",
      "Automatic transmission type used car fuel details\n"
     ]
    }
   ],
   "source": [
    "Manual = df[df['Transmission Type']=='Manual']\n",
    "Automatic = df[df['Transmission Type']=='Automatic']\n",
    "\n",
    "print('Manual transmission type used car fuel details')\n",
    "sns.pairplot(Manual, hue='Fuel Type', diag_kind=\"kde\", kind=\"scatter\", palette=\"tab10\", height=3.5)\n",
    "plt.show()\n",
    "\n",
    "print('Automatic transmission type used car fuel details')\n",
    "sns.pairplot(Automatic, hue='Fuel Type', diag_kind=\"kde\", kind=\"scatter\", palette=\"hls\", height=3.5)\n",
    "plt.show()"
   ]
  },
  {
   "cell_type": "markdown",
   "id": "c93df4f6",
   "metadata": {},
   "source": [
    "Observation: Above we have generated pair plots for Fuel type legends considering the manual and automatic transmission types."
   ]
  },
  {
   "cell_type": "markdown",
   "id": "338116dd",
   "metadata": {},
   "source": [
    "### Encoding the categorical object datatype columns"
   ]
  },
  {
   "cell_type": "code",
   "execution_count": 27,
   "id": "a06927e8",
   "metadata": {},
   "outputs": [
    {
     "data": {
      "text/html": [
       "<div>\n",
       "<style scoped>\n",
       "    .dataframe tbody tr th:only-of-type {\n",
       "        vertical-align: middle;\n",
       "    }\n",
       "\n",
       "    .dataframe tbody tr th {\n",
       "        vertical-align: top;\n",
       "    }\n",
       "\n",
       "    .dataframe thead th {\n",
       "        text-align: right;\n",
       "    }\n",
       "</style>\n",
       "<table border=\"1\" class=\"dataframe\">\n",
       "  <thead>\n",
       "    <tr style=\"text-align: right;\">\n",
       "      <th></th>\n",
       "      <th>Used Car Model</th>\n",
       "      <th>Year of Manufacture</th>\n",
       "      <th>Kilometers Driven</th>\n",
       "      <th>Fuel Type</th>\n",
       "      <th>Transmission Type</th>\n",
       "      <th>Used Car Price</th>\n",
       "    </tr>\n",
       "  </thead>\n",
       "  <tbody>\n",
       "    <tr>\n",
       "      <th>0</th>\n",
       "      <td>460.0</td>\n",
       "      <td>2017</td>\n",
       "      <td>2200</td>\n",
       "      <td>4.0</td>\n",
       "      <td>1.0</td>\n",
       "      <td>525000.0</td>\n",
       "    </tr>\n",
       "    <tr>\n",
       "      <th>1</th>\n",
       "      <td>460.0</td>\n",
       "      <td>2013</td>\n",
       "      <td>91500</td>\n",
       "      <td>2.0</td>\n",
       "      <td>1.0</td>\n",
       "      <td>595000.0</td>\n",
       "    </tr>\n",
       "    <tr>\n",
       "      <th>2</th>\n",
       "      <td>186.0</td>\n",
       "      <td>2017</td>\n",
       "      <td>36000</td>\n",
       "      <td>2.0</td>\n",
       "      <td>1.0</td>\n",
       "      <td>775000.0</td>\n",
       "    </tr>\n",
       "    <tr>\n",
       "      <th>3</th>\n",
       "      <td>318.0</td>\n",
       "      <td>2015</td>\n",
       "      <td>90000</td>\n",
       "      <td>2.0</td>\n",
       "      <td>1.0</td>\n",
       "      <td>400000.0</td>\n",
       "    </tr>\n",
       "    <tr>\n",
       "      <th>4</th>\n",
       "      <td>1274.0</td>\n",
       "      <td>2010</td>\n",
       "      <td>40000</td>\n",
       "      <td>4.0</td>\n",
       "      <td>1.0</td>\n",
       "      <td>230000.0</td>\n",
       "    </tr>\n",
       "    <tr>\n",
       "      <th>...</th>\n",
       "      <td>...</td>\n",
       "      <td>...</td>\n",
       "      <td>...</td>\n",
       "      <td>...</td>\n",
       "      <td>...</td>\n",
       "      <td>...</td>\n",
       "    </tr>\n",
       "    <tr>\n",
       "      <th>9995</th>\n",
       "      <td>460.0</td>\n",
       "      <td>2012</td>\n",
       "      <td>65000</td>\n",
       "      <td>4.0</td>\n",
       "      <td>1.0</td>\n",
       "      <td>325000.0</td>\n",
       "    </tr>\n",
       "    <tr>\n",
       "      <th>9996</th>\n",
       "      <td>1274.0</td>\n",
       "      <td>2018</td>\n",
       "      <td>85000</td>\n",
       "      <td>1.0</td>\n",
       "      <td>1.0</td>\n",
       "      <td>290000.0</td>\n",
       "    </tr>\n",
       "    <tr>\n",
       "      <th>9997</th>\n",
       "      <td>1274.0</td>\n",
       "      <td>2010</td>\n",
       "      <td>72000</td>\n",
       "      <td>4.0</td>\n",
       "      <td>1.0</td>\n",
       "      <td>320000.0</td>\n",
       "    </tr>\n",
       "    <tr>\n",
       "      <th>9998</th>\n",
       "      <td>1633.0</td>\n",
       "      <td>2012</td>\n",
       "      <td>70000</td>\n",
       "      <td>2.0</td>\n",
       "      <td>1.0</td>\n",
       "      <td>185000.0</td>\n",
       "    </tr>\n",
       "    <tr>\n",
       "      <th>9999</th>\n",
       "      <td>186.0</td>\n",
       "      <td>2018</td>\n",
       "      <td>53764</td>\n",
       "      <td>2.0</td>\n",
       "      <td>1.0</td>\n",
       "      <td>875000.0</td>\n",
       "    </tr>\n",
       "  </tbody>\n",
       "</table>\n",
       "<p>10000 rows × 6 columns</p>\n",
       "</div>"
      ],
      "text/plain": [
       "      Used Car Model  Year of Manufacture  Kilometers Driven  Fuel Type  \\\n",
       "0              460.0                 2017               2200        4.0   \n",
       "1              460.0                 2013              91500        2.0   \n",
       "2              186.0                 2017              36000        2.0   \n",
       "3              318.0                 2015              90000        2.0   \n",
       "4             1274.0                 2010              40000        4.0   \n",
       "...              ...                  ...                ...        ...   \n",
       "9995           460.0                 2012              65000        4.0   \n",
       "9996          1274.0                 2018              85000        1.0   \n",
       "9997          1274.0                 2010              72000        4.0   \n",
       "9998          1633.0                 2012              70000        2.0   \n",
       "9999           186.0                 2018              53764        2.0   \n",
       "\n",
       "      Transmission Type  Used Car Price  \n",
       "0                   1.0        525000.0  \n",
       "1                   1.0        595000.0  \n",
       "2                   1.0        775000.0  \n",
       "3                   1.0        400000.0  \n",
       "4                   1.0        230000.0  \n",
       "...                 ...             ...  \n",
       "9995                1.0        325000.0  \n",
       "9996                1.0        290000.0  \n",
       "9997                1.0        320000.0  \n",
       "9998                1.0        185000.0  \n",
       "9999                1.0        875000.0  \n",
       "\n",
       "[10000 rows x 6 columns]"
      ]
     },
     "execution_count": 27,
     "metadata": {},
     "output_type": "execute_result"
    }
   ],
   "source": [
    "# Ordinal Encoder\n",
    "\n",
    "oe = OrdinalEncoder()\n",
    "def ordinal_encode(df, column):\n",
    "    df[column] = oe.fit_transform(df[column])\n",
    "    return df\n",
    "\n",
    "column=[\"Transmission Type\", \"Fuel Type\", \"Used Car Model\"]\n",
    "df=ordinal_encode(df, column)\n",
    "df"
   ]
  },
  {
   "cell_type": "code",
   "execution_count": 28,
   "id": "3376a0a7",
   "metadata": {},
   "outputs": [
    {
     "name": "stdout",
     "output_type": "stream",
     "text": [
      "Shape of our data frame post encoding shows 10000 Rows and 6 columns\n",
      "\n"
     ]
    }
   ],
   "source": [
    "print(\"Shape of our data frame post encoding shows {} Rows and {} columns\\n\".format(df.shape[0], df.shape[1]))\n"
   ]
  },
  {
   "cell_type": "markdown",
   "id": "28edbbc7",
   "metadata": {},
   "source": [
    "Checking the number of rows and columns after applying the encoding technique on them."
   ]
  },
  {
   "cell_type": "code",
   "execution_count": 29,
   "id": "9dab1314",
   "metadata": {},
   "outputs": [],
   "source": [
    "plt.style.use('seaborn-bright')\n",
    "\n",
    "df.hist(figsize=(20,20))\n",
    "plt.show()"
   ]
  },
  {
   "cell_type": "markdown",
   "id": "4a74d718",
   "metadata": {},
   "source": [
    "### Correlation using a Heatmap"
   ]
  },
  {
   "cell_type": "code",
   "execution_count": 30,
   "id": "a060cd03",
   "metadata": {},
   "outputs": [],
   "source": [
    "upper_triangle = np.triu(df.corr())\n",
    "plt.figure(figsize=(15,10))\n",
    "sns.heatmap(df.corr(), vmin=-1, vmax=1, annot=True, square=True, fmt='0.3f', \n",
    "            annot_kws={'size':10}, cmap=\"cubehelix\", mask=upper_triangle)\n",
    "plt.xticks(fontsize=14)\n",
    "plt.yticks(fontsize=14)\n",
    "plt.show()"
   ]
  },
  {
   "cell_type": "markdown",
   "id": "f2b1665f",
   "metadata": {},
   "source": [
    "In the above correlation heatmap we can see that only \"Year of Manufacture\" is positively correlated with our label column while the other feature columns are negatively correlated. Also we see no multi collinearity concerns between the feature variables and will not have to worry about the same"
   ]
  },
  {
   "cell_type": "markdown",
   "id": "4ae67741",
   "metadata": {},
   "source": [
    "### Correlation Bar Plot comparing Gender column with the remaining columns"
   ]
  },
  {
   "cell_type": "code",
   "execution_count": 31,
   "id": "d85d4d17",
   "metadata": {},
   "outputs": [],
   "source": [
    "df_corr = df.corr()\n",
    "plt.figure(figsize=(14,7))\n",
    "df_corr['Used Car Price'].sort_values(ascending=False).drop('Used Car Price').plot.bar()\n",
    "plt.title(\"Correlation of Feature columns vs Label\\n\", fontsize=16)\n",
    "plt.xlabel(\"\\nFeatures List\", fontsize=14)\n",
    "plt.ylabel(\"Correlation Value\", fontsize=14)\n",
    "plt.show()"
   ]
  },
  {
   "cell_type": "markdown",
   "id": "cc728e95",
   "metadata": {},
   "source": [
    "Here we have a visual on the positively and negatively correlated feature columns with our target variable"
   ]
  },
  {
   "cell_type": "markdown",
   "id": "3076b9ba",
   "metadata": {},
   "source": [
    "### Outliers"
   ]
  },
  {
   "cell_type": "code",
   "execution_count": 32,
   "id": "26fcdbfd",
   "metadata": {},
   "outputs": [],
   "source": [
    "plt.figure(figsize=(14,7))\n",
    "outl_df = df.columns.values\n",
    "for i in range(0, len(outl_df)):\n",
    "    plt.subplot(2, 3, i+1)\n",
    "    ax = sns.boxenplot(df[outl_df[i]], color='red')\n",
    "    plt.tight_layout()"
   ]
  },
  {
   "cell_type": "markdown",
   "id": "9b471f99",
   "metadata": {},
   "source": [
    "We can see that there are few outliers present in our dataset that will need to be treated."
   ]
  },
  {
   "cell_type": "code",
   "execution_count": 33,
   "id": "acd49b64",
   "metadata": {},
   "outputs": [
    {
     "name": "stdout",
     "output_type": "stream",
     "text": [
      "Shape of the dataframe before removing outliers:  (10000, 6)\n",
      "Shape of the dataframe after removing outliers:  (9660, 6)\n",
      "Percentage of data loss post outlier removal:  3.4000000000000004\n"
     ]
    }
   ],
   "source": [
    "# Using Z Score to remove outliers\n",
    "\n",
    "z = np.abs(zscore(df))\n",
    "threshold = 3\n",
    "df1 = df[(z<3).all(axis = 1)]\n",
    "\n",
    "print (\"Shape of the dataframe before removing outliers: \", df.shape)\n",
    "print (\"Shape of the dataframe after removing outliers: \", df1.shape)\n",
    "print (\"Percentage of data loss post outlier removal: \", (df.shape[0]-df1.shape[0])/df.shape[0]*100)\n",
    "\n",
    "df=df1.copy()"
   ]
  },
  {
   "cell_type": "code",
   "execution_count": 34,
   "id": "2949eab2",
   "metadata": {},
   "outputs": [],
   "source": [
    "plt.style.use('fast')\n",
    "\n",
    "fig, ax = plt.subplots(ncols=3, nrows=2, figsize=(14,7))\n",
    "index = 0\n",
    "ax = ax.flatten()\n",
    "for col, value in df.items():\n",
    "    sns.boxenplot(y=col, data=df, ax=ax[index], color=\"purple\")\n",
    "    index += 1\n",
    "plt.tight_layout(pad=0.4, w_pad=0.4, h_pad=1.0)\n",
    "plt.show()"
   ]
  },
  {
   "cell_type": "markdown",
   "id": "e911ce63",
   "metadata": {},
   "source": [
    "### Skewness"
   ]
  },
  {
   "cell_type": "code",
   "execution_count": 35,
   "id": "009758e8",
   "metadata": {},
   "outputs": [
    {
     "data": {
      "text/plain": [
       "Used Car Model        -0.050582\n",
       "Year of Manufacture   -0.654635\n",
       "Kilometers Driven      0.839812\n",
       "Fuel Type              0.064673\n",
       "Transmission Type     -2.214140\n",
       "Used Car Price         3.132993\n",
       "dtype: float64"
      ]
     },
     "execution_count": 35,
     "metadata": {},
     "output_type": "execute_result"
    }
   ],
   "source": [
    "df.skew()\n"
   ]
  },
  {
   "cell_type": "markdown",
   "id": "92247aa2",
   "metadata": {},
   "source": [
    "With the skew method we see that there are columns present in our dataset that are above the acceptable range of +/-(0.5) value."
   ]
  },
  {
   "cell_type": "code",
   "execution_count": 36,
   "id": "ef20acd9",
   "metadata": {},
   "outputs": [],
   "source": [
    "plt.figure(figsize=(14,7))\n",
    "for i in range(0, len(outl_df)):\n",
    "    plt.subplot(2, 3, i+1)\n",
    "    ax = sns.distplot(df[outl_df[i]], color='blue')\n",
    "    plt.tight_layout()"
   ]
  },
  {
   "cell_type": "markdown",
   "id": "98406415",
   "metadata": {},
   "source": [
    "our target column is the one showing the highest skewness and it won't be much of a concern to us. However ,skewness in the feature columns that will need to be treated."
   ]
  },
  {
   "cell_type": "code",
   "execution_count": 37,
   "id": "d64b9fb5",
   "metadata": {},
   "outputs": [],
   "source": [
    "# Using Log Transform to fix skewness\n",
    "\n",
    "df_log=df.copy()\n",
    "for col in df_log.columns:\n",
    "    if df_log.skew().loc[col]>0.55:\n",
    "        df_log[col]=np.log1p(df_log[col])"
   ]
  },
  {
   "cell_type": "markdown",
   "id": "11ceaf51",
   "metadata": {},
   "source": [
    "using the log transformation method to handle skewness from our feature variables"
   ]
  },
  {
   "cell_type": "code",
   "execution_count": 38,
   "id": "f4618578",
   "metadata": {},
   "outputs": [],
   "source": [
    "fig, ax = plt.subplots(ncols=3, nrows=2, figsize=(14,7))\n",
    "index = 0\n",
    "ax = ax.flatten()\n",
    "for col, value in df_log.items():\n",
    "    sns.distplot(value, ax=ax[index], hist=False, color=\"g\", kde_kws={\"shade\": True})\n",
    "    index += 1\n",
    "plt.tight_layout(pad=0.4, w_pad=0.4, h_pad=1.0)\n",
    "plt.show()"
   ]
  },
  {
   "cell_type": "markdown",
   "id": "f62090ea",
   "metadata": {},
   "source": [
    "With the help of above distribution plots I see that almost all the columns now have a bell shape curve retaining the normal distribution form"
   ]
  },
  {
   "cell_type": "markdown",
   "id": "290aaf21",
   "metadata": {},
   "source": [
    "### Splitting the dataset into  'X' and 'Y' for feature and label"
   ]
  },
  {
   "cell_type": "code",
   "execution_count": 39,
   "id": "9bbeb979",
   "metadata": {},
   "outputs": [],
   "source": [
    "X = df_log.drop('Used Car Price', axis=1)\n",
    "Y = df_log['Used Car Price']"
   ]
  },
  {
   "cell_type": "markdown",
   "id": "831def60",
   "metadata": {},
   "source": [
    "### Feature Scaling"
   ]
  },
  {
   "cell_type": "code",
   "execution_count": 40,
   "id": "5eb525ab",
   "metadata": {},
   "outputs": [
    {
     "data": {
      "text/html": [
       "<div>\n",
       "<style scoped>\n",
       "    .dataframe tbody tr th:only-of-type {\n",
       "        vertical-align: middle;\n",
       "    }\n",
       "\n",
       "    .dataframe tbody tr th {\n",
       "        vertical-align: top;\n",
       "    }\n",
       "\n",
       "    .dataframe thead th {\n",
       "        text-align: right;\n",
       "    }\n",
       "</style>\n",
       "<table border=\"1\" class=\"dataframe\">\n",
       "  <thead>\n",
       "    <tr style=\"text-align: right;\">\n",
       "      <th></th>\n",
       "      <th>Used Car Model</th>\n",
       "      <th>Year of Manufacture</th>\n",
       "      <th>Kilometers Driven</th>\n",
       "      <th>Fuel Type</th>\n",
       "      <th>Transmission Type</th>\n",
       "    </tr>\n",
       "  </thead>\n",
       "  <tbody>\n",
       "    <tr>\n",
       "      <th>0</th>\n",
       "      <td>-1.049778</td>\n",
       "      <td>0.859016</td>\n",
       "      <td>-2.676651</td>\n",
       "      <td>1.092489</td>\n",
       "      <td>0.38482</td>\n",
       "    </tr>\n",
       "    <tr>\n",
       "      <th>1</th>\n",
       "      <td>-1.049778</td>\n",
       "      <td>-0.216389</td>\n",
       "      <td>0.540315</td>\n",
       "      <td>-0.853025</td>\n",
       "      <td>0.38482</td>\n",
       "    </tr>\n",
       "    <tr>\n",
       "      <th>2</th>\n",
       "      <td>-1.546103</td>\n",
       "      <td>0.859016</td>\n",
       "      <td>-0.264741</td>\n",
       "      <td>-0.853025</td>\n",
       "      <td>0.38482</td>\n",
       "    </tr>\n",
       "    <tr>\n",
       "      <th>3</th>\n",
       "      <td>-1.306997</td>\n",
       "      <td>0.321313</td>\n",
       "      <td>0.526049</td>\n",
       "      <td>-0.853025</td>\n",
       "      <td>0.38482</td>\n",
       "    </tr>\n",
       "    <tr>\n",
       "      <th>4</th>\n",
       "      <td>0.424706</td>\n",
       "      <td>-1.022943</td>\n",
       "      <td>-0.173812</td>\n",
       "      <td>1.092489</td>\n",
       "      <td>0.38482</td>\n",
       "    </tr>\n",
       "  </tbody>\n",
       "</table>\n",
       "</div>"
      ],
      "text/plain": [
       "   Used Car Model  Year of Manufacture  Kilometers Driven  Fuel Type  \\\n",
       "0       -1.049778             0.859016          -2.676651   1.092489   \n",
       "1       -1.049778            -0.216389           0.540315  -0.853025   \n",
       "2       -1.546103             0.859016          -0.264741  -0.853025   \n",
       "3       -1.306997             0.321313           0.526049  -0.853025   \n",
       "4        0.424706            -1.022943          -0.173812   1.092489   \n",
       "\n",
       "   Transmission Type  \n",
       "0            0.38482  \n",
       "1            0.38482  \n",
       "2            0.38482  \n",
       "3            0.38482  \n",
       "4            0.38482  "
      ]
     },
     "execution_count": 40,
     "metadata": {},
     "output_type": "execute_result"
    }
   ],
   "source": [
    "scaler = StandardScaler()\n",
    "X = pd.DataFrame(scaler.fit_transform(X), columns=X.columns)\n",
    "X.head()"
   ]
  },
  {
   "cell_type": "markdown",
   "id": "d0970dbf",
   "metadata": {},
   "source": [
    "### Finding the best random state for building Regression Models"
   ]
  },
  {
   "cell_type": "code",
   "execution_count": 41,
   "id": "e1aa5633",
   "metadata": {},
   "outputs": [
    {
     "name": "stdout",
     "output_type": "stream",
     "text": [
      "Best R2 score is 57.550268240713386 on Random State 251\n"
     ]
    }
   ],
   "source": [
    "maxAccu=0\n",
    "maxRS=0\n",
    "\n",
    "for i in range(1, 1000):\n",
    "    X_train, X_test, Y_train, Y_test = train_test_split(X, Y, test_size=0.25, random_state=i)\n",
    "    lr=LinearRegression()\n",
    "    lr.fit(X_train, Y_train)\n",
    "    pred = lr.predict(X_test)\n",
    "    r2 = r2_score(Y_test, pred)\n",
    "    \n",
    "    if r2>maxAccu:\n",
    "        maxAccu=r2\n",
    "        maxRS=i\n",
    "\n",
    "print(\"Best R2 score is\", maxAccu*100,\"on Random State\", maxRS)"
   ]
  },
  {
   "cell_type": "markdown",
   "id": "7727a3a5",
   "metadata": {},
   "source": [
    "Best R2 score is 57.550268240713386 on Random State 251\n",
    "\n",
    "Here we see that out of the random state value ranging from 1 to 1000 the best random state number found is \"251\" and we will use this in our ML models"
   ]
  },
  {
   "cell_type": "markdown",
   "id": "6237cc82",
   "metadata": {},
   "source": [
    "### Feature importance bar graph"
   ]
  },
  {
   "cell_type": "code",
   "execution_count": 42,
   "id": "c413f462",
   "metadata": {},
   "outputs": [
    {
     "data": {
      "text/html": [
       "<div>\n",
       "<style scoped>\n",
       "    .dataframe tbody tr th:only-of-type {\n",
       "        vertical-align: middle;\n",
       "    }\n",
       "\n",
       "    .dataframe tbody tr th {\n",
       "        vertical-align: top;\n",
       "    }\n",
       "\n",
       "    .dataframe thead th {\n",
       "        text-align: right;\n",
       "    }\n",
       "</style>\n",
       "<table border=\"1\" class=\"dataframe\">\n",
       "  <thead>\n",
       "    <tr style=\"text-align: right;\">\n",
       "      <th></th>\n",
       "      <th>Importance</th>\n",
       "    </tr>\n",
       "    <tr>\n",
       "      <th>Features</th>\n",
       "      <th></th>\n",
       "    </tr>\n",
       "  </thead>\n",
       "  <tbody>\n",
       "    <tr>\n",
       "      <th>Year of Manufacture</th>\n",
       "      <td>0.359</td>\n",
       "    </tr>\n",
       "    <tr>\n",
       "      <th>Kilometers Driven</th>\n",
       "      <td>0.320</td>\n",
       "    </tr>\n",
       "    <tr>\n",
       "      <th>Used Car Model</th>\n",
       "      <td>0.161</td>\n",
       "    </tr>\n",
       "    <tr>\n",
       "      <th>Transmission Type</th>\n",
       "      <td>0.093</td>\n",
       "    </tr>\n",
       "    <tr>\n",
       "      <th>Fuel Type</th>\n",
       "      <td>0.066</td>\n",
       "    </tr>\n",
       "  </tbody>\n",
       "</table>\n",
       "</div>"
      ],
      "text/plain": [
       "                     Importance\n",
       "Features                       \n",
       "Year of Manufacture       0.359\n",
       "Kilometers Driven         0.320\n",
       "Used Car Model            0.161\n",
       "Transmission Type         0.093\n",
       "Fuel Type                 0.066"
      ]
     },
     "execution_count": 42,
     "metadata": {},
     "output_type": "execute_result"
    }
   ],
   "source": [
    "rf=RandomForestRegressor()\n",
    "rf.fit(X_train, Y_train)\n",
    "importances = pd.DataFrame({'Features':X.columns, 'Importance':np.round(rf.feature_importances_,3)})\n",
    "importances = importances.sort_values('Importance', ascending=False).set_index('Features')\n",
    "plt.rcParams[\"figure.figsize\"] = (14,7)\n",
    "importances.plot.bar(color='teal')\n",
    "importances"
   ]
  },
  {
   "cell_type": "markdown",
   "id": "57af0072",
   "metadata": {},
   "source": [
    "### Machine Learning Model for Regression with Evaluation Metrics"
   ]
  },
  {
   "cell_type": "code",
   "execution_count": 43,
   "id": "6bb337a6",
   "metadata": {},
   "outputs": [],
   "source": [
    "# Regression Model Function\n",
    "\n",
    "def reg(model, X, Y):\n",
    "    X_train, X_test, Y_train, Y_test = train_test_split(X, Y, test_size=0.25, random_state=251)\n",
    "    \n",
    "    # Training the model\n",
    "    model.fit(X_train, Y_train)\n",
    "    \n",
    "    # Predicting Y_test\n",
    "    pred = model.predict(X_test)\n",
    "    \n",
    "    # RMSE - a lower RMSE score is better than a higher one\n",
    "    rmse = mean_squared_error(Y_test, pred, squared=False)\n",
    "    print(\"RMSE Score is:\", rmse)\n",
    "    \n",
    "    # R2 score\n",
    "    r2 = r2_score(Y_test, pred, multioutput='variance_weighted')*100\n",
    "    print(\"R2 Score is:\", r2)\n",
    "    \n",
    "    # Cross Validation Score\n",
    "    cv_score = (cross_val_score(model, X, Y, cv=5).mean())*100\n",
    "    print(\"Cross Validation Score:\", cv_score)\n",
    "    \n",
    "    # Result of r2 score minus cv score\n",
    "    result = r2 - cv_score\n",
    "    print(\"R2 Score - Cross Validation Score is\", result)"
   ]
  },
  {
   "cell_type": "code",
   "execution_count": null,
   "id": "6bfedade",
   "metadata": {},
   "outputs": [],
   "source": []
  },
  {
   "cell_type": "code",
   "execution_count": 44,
   "id": "1366cccd",
   "metadata": {},
   "outputs": [
    {
     "name": "stdout",
     "output_type": "stream",
     "text": [
      "RMSE Score is: 0.6055563352393261\n",
      "R2 Score is: 57.550268240713386\n",
      "Cross Validation Score: 52.8753376052149\n",
      "R2 Score - Cross Validation Score is 4.674930635498484\n"
     ]
    }
   ],
   "source": [
    "# Linear Regression Model\n",
    "\n",
    "model=LinearRegression()\n",
    "reg(model, X, Y)"
   ]
  },
  {
   "cell_type": "code",
   "execution_count": null,
   "id": "f8e12d40",
   "metadata": {},
   "outputs": [],
   "source": []
  },
  {
   "cell_type": "code",
   "execution_count": 45,
   "id": "ae0ab6f5",
   "metadata": {},
   "outputs": [
    {
     "name": "stdout",
     "output_type": "stream",
     "text": [
      "RMSE Score is: 0.6054680731075806\n",
      "R2 Score is: 57.56264175759676\n",
      "Cross Validation Score: 52.93925429374748\n",
      "R2 Score - Cross Validation Score is 4.6233874638492765\n"
     ]
    }
   ],
   "source": [
    "# Ridge Regularization\n",
    "\n",
    "model=Ridge(alpha=1e-2, normalize=True)\n",
    "reg(model, X, Y)"
   ]
  },
  {
   "cell_type": "code",
   "execution_count": null,
   "id": "1a10b158",
   "metadata": {},
   "outputs": [],
   "source": []
  },
  {
   "cell_type": "code",
   "execution_count": 46,
   "id": "2fd14105",
   "metadata": {},
   "outputs": [
    {
     "name": "stdout",
     "output_type": "stream",
     "text": [
      "RMSE Score is: 0.9298915333170628\n",
      "R2 Score is: -0.099160034407908\n",
      "Cross Validation Score: -0.5134623856097242\n",
      "R2 Score - Cross Validation Score is 0.41430235120181624\n"
     ]
    }
   ],
   "source": [
    "# Lasso Regularization\n",
    "\n",
    "model=Lasso(alpha=1e-2, normalize=True, max_iter=1e5)\n",
    "reg(model, X, Y)"
   ]
  },
  {
   "cell_type": "code",
   "execution_count": 47,
   "id": "6f5b1d48",
   "metadata": {},
   "outputs": [
    {
     "name": "stdout",
     "output_type": "stream",
     "text": [
      "RMSE Score is: 0.6090026450104318\n",
      "R2 Score is: 57.065718051983616\n",
      "Cross Validation Score: 52.233048946081496\n",
      "R2 Score - Cross Validation Score is 4.83266910590212\n"
     ]
    }
   ],
   "source": [
    "# Support Vector Regression\n",
    "\n",
    "model=SVR(C=1.0, epsilon=0.2, kernel='poly', gamma='auto')\n",
    "reg(model, X, Y)"
   ]
  },
  {
   "cell_type": "code",
   "execution_count": 48,
   "id": "f50b1cde",
   "metadata": {},
   "outputs": [
    {
     "name": "stdout",
     "output_type": "stream",
     "text": [
      "RMSE Score is: 0.4415720834474327\n",
      "R2 Score is: 77.42805078300164\n",
      "Cross Validation Score: 70.95397325483471\n",
      "R2 Score - Cross Validation Score is 6.47407752816693\n"
     ]
    }
   ],
   "source": [
    "# Decision Tree Regressor\n",
    "\n",
    "model=DecisionTreeRegressor(criterion=\"poisson\", random_state=111)\n",
    "reg(model, X, Y)"
   ]
  },
  {
   "cell_type": "code",
   "execution_count": 49,
   "id": "fda0a1fe",
   "metadata": {},
   "outputs": [
    {
     "name": "stdout",
     "output_type": "stream",
     "text": [
      "RMSE Score is: 0.6522640965130954\n",
      "R2 Score is: 50.74925620971611\n",
      "Cross Validation Score: 46.3474070133741\n",
      "R2 Score - Cross Validation Score is 4.401849196342006\n"
     ]
    }
   ],
   "source": [
    "# Random Forest Regressor\n",
    "\n",
    "model=RandomForestRegressor(max_depth=2, max_features=\"sqrt\")\n",
    "reg(model, X, Y)"
   ]
  },
  {
   "cell_type": "code",
   "execution_count": 50,
   "id": "ad476b24",
   "metadata": {},
   "outputs": [
    {
     "name": "stdout",
     "output_type": "stream",
     "text": [
      "RMSE Score is: 0.6556371873419385\n",
      "R2 Score is: 50.23855269334183\n",
      "Cross Validation Score: 46.27301313686169\n",
      "R2 Score - Cross Validation Score is 3.965539556480138\n"
     ]
    }
   ],
   "source": [
    "# K Neighbors Regressor\n",
    "\n",
    "KNeighborsRegressor(n_neighbors=2, algorithm='kd_tree')\n",
    "reg(model, X, Y)"
   ]
  },
  {
   "cell_type": "code",
   "execution_count": 51,
   "id": "8902c210",
   "metadata": {},
   "outputs": [
    {
     "name": "stdout",
     "output_type": "stream",
     "text": [
      "RMSE Score is: 0.7406048764840626\n",
      "R2 Score is: 36.50507992123264\n",
      "Cross Validation Score: 42.73024846970969\n",
      "R2 Score - Cross Validation Score is -6.2251685484770505\n"
     ]
    }
   ],
   "source": [
    "# Gradient Boosting Regressor\n",
    "\n",
    "model=GradientBoostingRegressor(loss='quantile', n_estimators=200, max_depth=5)\n",
    "reg(model, X, Y)"
   ]
  },
  {
   "cell_type": "code",
   "execution_count": 52,
   "id": "61b7b5d6",
   "metadata": {},
   "outputs": [
    {
     "name": "stdout",
     "output_type": "stream",
     "text": [
      "RMSE Score is: 0.6020206872686222\n",
      "R2 Score is: 58.04452168526095\n",
      "Cross Validation Score: 52.331856070405145\n",
      "R2 Score - Cross Validation Score is 5.712665614855808\n"
     ]
    }
   ],
   "source": [
    "# Ada Boost Regressor\n",
    "\n",
    "model=AdaBoostRegressor(n_estimators=300, learning_rate=1.05, random_state=42)\n",
    "reg(model, X, Y)"
   ]
  },
  {
   "cell_type": "code",
   "execution_count": 53,
   "id": "6dc2b051",
   "metadata": {},
   "outputs": [
    {
     "name": "stdout",
     "output_type": "stream",
     "text": [
      "RMSE Score is: 0.36332548550935356\n",
      "R2 Score is: 84.71879607363826\n",
      "Cross Validation Score: 80.27347268815363\n",
      "R2 Score - Cross Validation Score is 4.4453233854846275\n"
     ]
    }
   ],
   "source": [
    "# Extra Trees Regressor\n",
    "\n",
    "model=ExtraTreesRegressor(n_estimators=200, max_features='sqrt', n_jobs=6)\n",
    "reg(model, X, Y)"
   ]
  },
  {
   "cell_type": "markdown",
   "id": "b6cc3433",
   "metadata": {},
   "source": [
    "### Hyper parameter tuning"
   ]
  },
  {
   "cell_type": "code",
   "execution_count": 54,
   "id": "61a3231b",
   "metadata": {},
   "outputs": [
    {
     "data": {
      "text/plain": [
       "GridSearchCV(cv=5, estimator=ExtraTreesRegressor(),\n",
       "             param_grid={'criterion': ['squared_error', 'mse', 'absolute_error',\n",
       "                                       'mae'],\n",
       "                         'n_estimators': [100, 200, 300], 'n_jobs': [-2, -1, 1],\n",
       "                         'random_state': [42, 251, 340]})"
      ]
     },
     "execution_count": 54,
     "metadata": {},
     "output_type": "execute_result"
    }
   ],
   "source": [
    "# Choosing Extra Trees Regressor\n",
    "\n",
    "fmod_param = {'n_estimators' : [100, 200, 300],\n",
    "              'criterion' : ['squared_error', 'mse', 'absolute_error', 'mae'],\n",
    "              'n_jobs' : [-2, -1, 1],\n",
    "              'random_state' : [42, 251, 340]\n",
    "             }\n",
    "\n",
    "GSCV = GridSearchCV(ExtraTreesRegressor(), fmod_param, cv=5)\n",
    "GSCV.fit(X_train,Y_train)"
   ]
  },
  {
   "cell_type": "markdown",
   "id": "9e1acc73",
   "metadata": {},
   "source": [
    "After comparing all the regression models I have selected Extra Trees Regressor as my best model and have listed down it's parameters above referring the sklearn webpage. I am using the Grid Search CV method for hyper parameter tuning my best model. "
   ]
  },
  {
   "cell_type": "code",
   "execution_count": 55,
   "id": "6b7b4131",
   "metadata": {},
   "outputs": [
    {
     "data": {
      "text/plain": [
       "{'criterion': 'mse', 'n_estimators': 300, 'n_jobs': -2, 'random_state': 42}"
      ]
     },
     "execution_count": 55,
     "metadata": {},
     "output_type": "execute_result"
    }
   ],
   "source": [
    "GSCV.best_params_"
   ]
  },
  {
   "cell_type": "markdown",
   "id": "554fcb41",
   "metadata": {},
   "source": [
    "### Final Model"
   ]
  },
  {
   "cell_type": "code",
   "execution_count": 56,
   "id": "8663b3a9",
   "metadata": {},
   "outputs": [
    {
     "name": "stdout",
     "output_type": "stream",
     "text": [
      "R2 score for the Best Model is: 73.45479082360302\n"
     ]
    }
   ],
   "source": [
    "Final_Model = ExtraTreesRegressor(criterion='mse', n_estimators=300, n_jobs=-1, random_state=42)\n",
    "Model_Training = Final_Model.fit(X_train, Y_train)\n",
    "fmod_pred = Final_Model.predict(X_test)\n",
    "fmod_r2 = r2_score(Y_test, fmod_pred, multioutput='variance_weighted')*100\n",
    "print(\"R2 score for the Best Model is:\", fmod_r2)"
   ]
  },
  {
   "cell_type": "markdown",
   "id": "4fca2c7e",
   "metadata": {},
   "source": [
    "### Prediction of Used Car Price"
   ]
  },
  {
   "cell_type": "code",
   "execution_count": 57,
   "id": "c9896940",
   "metadata": {},
   "outputs": [
    {
     "data": {
      "text/html": [
       "<div>\n",
       "<style scoped>\n",
       "    .dataframe tbody tr th:only-of-type {\n",
       "        vertical-align: middle;\n",
       "    }\n",
       "\n",
       "    .dataframe tbody tr th {\n",
       "        vertical-align: top;\n",
       "    }\n",
       "\n",
       "    .dataframe thead th {\n",
       "        text-align: right;\n",
       "    }\n",
       "</style>\n",
       "<table border=\"1\" class=\"dataframe\">\n",
       "  <thead>\n",
       "    <tr style=\"text-align: right;\">\n",
       "      <th></th>\n",
       "      <th>Used Car Price Predicted</th>\n",
       "      <th>Used Car Price Actual</th>\n",
       "    </tr>\n",
       "  </thead>\n",
       "  <tbody>\n",
       "    <tr>\n",
       "      <th>0</th>\n",
       "      <td>525001.000000</td>\n",
       "      <td>525000.0</td>\n",
       "    </tr>\n",
       "    <tr>\n",
       "      <th>1</th>\n",
       "      <td>632390.820721</td>\n",
       "      <td>595000.0</td>\n",
       "    </tr>\n",
       "    <tr>\n",
       "      <th>2</th>\n",
       "      <td>775001.000000</td>\n",
       "      <td>775000.0</td>\n",
       "    </tr>\n",
       "    <tr>\n",
       "      <th>3</th>\n",
       "      <td>400001.000000</td>\n",
       "      <td>400000.0</td>\n",
       "    </tr>\n",
       "    <tr>\n",
       "      <th>4</th>\n",
       "      <td>230001.000000</td>\n",
       "      <td>230000.0</td>\n",
       "    </tr>\n",
       "    <tr>\n",
       "      <th>...</th>\n",
       "      <td>...</td>\n",
       "      <td>...</td>\n",
       "    </tr>\n",
       "    <tr>\n",
       "      <th>9655</th>\n",
       "      <td>325001.000000</td>\n",
       "      <td>250000.0</td>\n",
       "    </tr>\n",
       "    <tr>\n",
       "      <th>9656</th>\n",
       "      <td>306108.612181</td>\n",
       "      <td>225000.0</td>\n",
       "    </tr>\n",
       "    <tr>\n",
       "      <th>9657</th>\n",
       "      <td>320001.000000</td>\n",
       "      <td>215000.0</td>\n",
       "    </tr>\n",
       "    <tr>\n",
       "      <th>9658</th>\n",
       "      <td>199437.709576</td>\n",
       "      <td>210000.0</td>\n",
       "    </tr>\n",
       "    <tr>\n",
       "      <th>9659</th>\n",
       "      <td>894879.316927</td>\n",
       "      <td>1350000.0</td>\n",
       "    </tr>\n",
       "  </tbody>\n",
       "</table>\n",
       "<p>9660 rows × 2 columns</p>\n",
       "</div>"
      ],
      "text/plain": [
       "      Used Car Price Predicted  Used Car Price Actual\n",
       "0                525001.000000               525000.0\n",
       "1                632390.820721               595000.0\n",
       "2                775001.000000               775000.0\n",
       "3                400001.000000               400000.0\n",
       "4                230001.000000               230000.0\n",
       "...                        ...                    ...\n",
       "9655             325001.000000               250000.0\n",
       "9656             306108.612181               225000.0\n",
       "9657             320001.000000               215000.0\n",
       "9658             199437.709576               210000.0\n",
       "9659             894879.316927              1350000.0\n",
       "\n",
       "[9660 rows x 2 columns]"
      ]
     },
     "execution_count": 57,
     "metadata": {},
     "output_type": "execute_result"
    }
   ],
   "source": [
    "Predicted_Price = Final_Model.predict(X)\n",
    "# Reversing the Log Transformation that was performed on the Target column while training the ML Model\n",
    "Predicted_SalePrice = np.exp(Predicted_Price)\n",
    "# Checking the predicted price details in dataframe format\n",
    "predicted_output = pd.DataFrame()\n",
    "predicted_output['Used Car Price Predicted'] = Predicted_SalePrice\n",
    "predicted_output['Used Car Price Actual'] = df[\"Used Car Price\"]\n",
    "predicted_output"
   ]
  },
  {
   "cell_type": "markdown",
   "id": "866c8bf5",
   "metadata": {},
   "source": [
    "### Saving the best model"
   ]
  },
  {
   "cell_type": "code",
   "execution_count": 58,
   "id": "9e5e9bf4",
   "metadata": {},
   "outputs": [
    {
     "data": {
      "text/plain": [
       "['UsedCarPricePrediction.pkl']"
      ]
     },
     "execution_count": 58,
     "metadata": {},
     "output_type": "execute_result"
    }
   ],
   "source": [
    "filename = \"UsedCarPricePrediction.pkl\"\n",
    "joblib.dump(Final_Model, filename)"
   ]
  },
  {
   "cell_type": "code",
   "execution_count": null,
   "id": "bf35998a",
   "metadata": {},
   "outputs": [],
   "source": []
  },
  {
   "cell_type": "code",
   "execution_count": null,
   "id": "cb084de0",
   "metadata": {},
   "outputs": [],
   "source": []
  }
 ],
 "metadata": {
  "kernelspec": {
   "display_name": "Python 3 (ipykernel)",
   "language": "python",
   "name": "python3"
  },
  "language_info": {
   "codemirror_mode": {
    "name": "ipython",
    "version": 3
   },
   "file_extension": ".py",
   "mimetype": "text/x-python",
   "name": "python",
   "nbconvert_exporter": "python",
   "pygments_lexer": "ipython3",
   "version": "3.9.7"
  }
 },
 "nbformat": 4,
 "nbformat_minor": 5
}
